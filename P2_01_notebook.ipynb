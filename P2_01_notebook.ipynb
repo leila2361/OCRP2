{
 "cells": [
  {
   "cell_type": "markdown",
   "metadata": {},
   "source": [
    "# ACADEMY\n",
    "\n",
    "\n",
    "En vue d'un projet d'expansion à l'international, faisons une analyse exploratoire afin de pouvoir répondre aux questions suivantes :\n",
    "- Quels sont les pays avec un fort potentiel de clients pour les services ?\n",
    "- Pour chacun de ces pays quelle sera l'évolution de ce potentiels de clients ?\n",
    "- Dans quels pays l'entreprise doit elle opérer en priorité ?\n",
    "\n",
    "Nous disposons pour cette étude des données de la Banque mondiale [Lien](https://datacatalog.worldbank.org/dataset/education-statistics)  \n",
    "\n",
    "Pour avoir des répondre aux questions posées, nous avons besoin d'explorer ce que l'on sait et ce que qui est prévu dans l'avenir dans cette base de données.\n",
    "\n",
    "Nous allons donc commencer par regarder le contenu de la base de données"
   ]
  },
  {
   "cell_type": "markdown",
   "metadata": {},
   "source": [
    "# Etude de Edstats"
   ]
  },
  {
   "cell_type": "markdown",
   "metadata": {},
   "source": [
    "Importation des librairies utiles pour l'étude"
   ]
  },
  {
   "cell_type": "code",
   "execution_count": 6,
   "metadata": {},
   "outputs": [],
   "source": [
    "import pandas as pd\n",
    "import matplotlib.pyplot as plt\n",
    "import seaborn as sns"
   ]
  },
  {
   "cell_type": "markdown",
   "metadata": {},
   "source": [
    "Recuperation des donnees sous forme de dataframe  \n"
   ]
  },
  {
   "cell_type": "code",
   "execution_count": 7,
   "metadata": {},
   "outputs": [
    {
     "name": "stdout",
     "output_type": "stream",
     "text": [
      "dimension du fichier EdsStatsData : (886930, 70), dimension du fichier EdStatsCountry : (241, 32)\n"
     ]
    }
   ],
   "source": [
    "df=pd.read_csv(\"C:/Users/leila/openclassrooms/projet2/Edstats_csv/EdStatsData.csv\")\n",
    "dfc=pd.read_csv(\"C:/Users/leila/openclassrooms/projet2/Edstats_csv/EdStatsCountry.csv\")\n",
    "print(\"dimension du fichier EdsStatsData : {}, dimension du fichier EdStatsCountry : {}\".format(df.shape,dfc.shape))"
   ]
  },
  {
   "cell_type": "markdown",
   "metadata": {},
   "source": [
    "Quel est le contenu des jeux de donnees ?"
   ]
  },
  {
   "cell_type": "code",
   "execution_count": 8,
   "metadata": {},
   "outputs": [
    {
     "data": {
      "text/html": [
       "<div>\n",
       "<style scoped>\n",
       "    .dataframe tbody tr th:only-of-type {\n",
       "        vertical-align: middle;\n",
       "    }\n",
       "\n",
       "    .dataframe tbody tr th {\n",
       "        vertical-align: top;\n",
       "    }\n",
       "\n",
       "    .dataframe thead th {\n",
       "        text-align: right;\n",
       "    }\n",
       "</style>\n",
       "<table border=\"1\" class=\"dataframe\">\n",
       "  <thead>\n",
       "    <tr style=\"text-align: right;\">\n",
       "      <th></th>\n",
       "      <th>Country Name</th>\n",
       "      <th>Country Code</th>\n",
       "      <th>Indicator Name</th>\n",
       "      <th>Indicator Code</th>\n",
       "      <th>1970</th>\n",
       "      <th>1971</th>\n",
       "      <th>1972</th>\n",
       "      <th>1973</th>\n",
       "      <th>1974</th>\n",
       "      <th>1975</th>\n",
       "      <th>...</th>\n",
       "      <th>2060</th>\n",
       "      <th>2065</th>\n",
       "      <th>2070</th>\n",
       "      <th>2075</th>\n",
       "      <th>2080</th>\n",
       "      <th>2085</th>\n",
       "      <th>2090</th>\n",
       "      <th>2095</th>\n",
       "      <th>2100</th>\n",
       "      <th>Unnamed: 69</th>\n",
       "    </tr>\n",
       "  </thead>\n",
       "  <tbody>\n",
       "    <tr>\n",
       "      <th>0</th>\n",
       "      <td>Arab World</td>\n",
       "      <td>ARB</td>\n",
       "      <td>Adjusted net enrolment rate, lower secondary, ...</td>\n",
       "      <td>UIS.NERA.2</td>\n",
       "      <td>NaN</td>\n",
       "      <td>NaN</td>\n",
       "      <td>NaN</td>\n",
       "      <td>NaN</td>\n",
       "      <td>NaN</td>\n",
       "      <td>NaN</td>\n",
       "      <td>...</td>\n",
       "      <td>NaN</td>\n",
       "      <td>NaN</td>\n",
       "      <td>NaN</td>\n",
       "      <td>NaN</td>\n",
       "      <td>NaN</td>\n",
       "      <td>NaN</td>\n",
       "      <td>NaN</td>\n",
       "      <td>NaN</td>\n",
       "      <td>NaN</td>\n",
       "      <td>NaN</td>\n",
       "    </tr>\n",
       "    <tr>\n",
       "      <th>1</th>\n",
       "      <td>Arab World</td>\n",
       "      <td>ARB</td>\n",
       "      <td>Adjusted net enrolment rate, lower secondary, ...</td>\n",
       "      <td>UIS.NERA.2.F</td>\n",
       "      <td>NaN</td>\n",
       "      <td>NaN</td>\n",
       "      <td>NaN</td>\n",
       "      <td>NaN</td>\n",
       "      <td>NaN</td>\n",
       "      <td>NaN</td>\n",
       "      <td>...</td>\n",
       "      <td>NaN</td>\n",
       "      <td>NaN</td>\n",
       "      <td>NaN</td>\n",
       "      <td>NaN</td>\n",
       "      <td>NaN</td>\n",
       "      <td>NaN</td>\n",
       "      <td>NaN</td>\n",
       "      <td>NaN</td>\n",
       "      <td>NaN</td>\n",
       "      <td>NaN</td>\n",
       "    </tr>\n",
       "    <tr>\n",
       "      <th>2</th>\n",
       "      <td>Arab World</td>\n",
       "      <td>ARB</td>\n",
       "      <td>Adjusted net enrolment rate, lower secondary, ...</td>\n",
       "      <td>UIS.NERA.2.GPI</td>\n",
       "      <td>NaN</td>\n",
       "      <td>NaN</td>\n",
       "      <td>NaN</td>\n",
       "      <td>NaN</td>\n",
       "      <td>NaN</td>\n",
       "      <td>NaN</td>\n",
       "      <td>...</td>\n",
       "      <td>NaN</td>\n",
       "      <td>NaN</td>\n",
       "      <td>NaN</td>\n",
       "      <td>NaN</td>\n",
       "      <td>NaN</td>\n",
       "      <td>NaN</td>\n",
       "      <td>NaN</td>\n",
       "      <td>NaN</td>\n",
       "      <td>NaN</td>\n",
       "      <td>NaN</td>\n",
       "    </tr>\n",
       "    <tr>\n",
       "      <th>3</th>\n",
       "      <td>Arab World</td>\n",
       "      <td>ARB</td>\n",
       "      <td>Adjusted net enrolment rate, lower secondary, ...</td>\n",
       "      <td>UIS.NERA.2.M</td>\n",
       "      <td>NaN</td>\n",
       "      <td>NaN</td>\n",
       "      <td>NaN</td>\n",
       "      <td>NaN</td>\n",
       "      <td>NaN</td>\n",
       "      <td>NaN</td>\n",
       "      <td>...</td>\n",
       "      <td>NaN</td>\n",
       "      <td>NaN</td>\n",
       "      <td>NaN</td>\n",
       "      <td>NaN</td>\n",
       "      <td>NaN</td>\n",
       "      <td>NaN</td>\n",
       "      <td>NaN</td>\n",
       "      <td>NaN</td>\n",
       "      <td>NaN</td>\n",
       "      <td>NaN</td>\n",
       "    </tr>\n",
       "    <tr>\n",
       "      <th>4</th>\n",
       "      <td>Arab World</td>\n",
       "      <td>ARB</td>\n",
       "      <td>Adjusted net enrolment rate, primary, both sex...</td>\n",
       "      <td>SE.PRM.TENR</td>\n",
       "      <td>54.822121</td>\n",
       "      <td>54.894138</td>\n",
       "      <td>56.209438</td>\n",
       "      <td>57.267109</td>\n",
       "      <td>57.991138</td>\n",
       "      <td>59.36554</td>\n",
       "      <td>...</td>\n",
       "      <td>NaN</td>\n",
       "      <td>NaN</td>\n",
       "      <td>NaN</td>\n",
       "      <td>NaN</td>\n",
       "      <td>NaN</td>\n",
       "      <td>NaN</td>\n",
       "      <td>NaN</td>\n",
       "      <td>NaN</td>\n",
       "      <td>NaN</td>\n",
       "      <td>NaN</td>\n",
       "    </tr>\n",
       "  </tbody>\n",
       "</table>\n",
       "<p>5 rows × 70 columns</p>\n",
       "</div>"
      ],
      "text/plain": [
       "  Country Name Country Code  \\\n",
       "0   Arab World          ARB   \n",
       "1   Arab World          ARB   \n",
       "2   Arab World          ARB   \n",
       "3   Arab World          ARB   \n",
       "4   Arab World          ARB   \n",
       "\n",
       "                                      Indicator Name  Indicator Code  \\\n",
       "0  Adjusted net enrolment rate, lower secondary, ...      UIS.NERA.2   \n",
       "1  Adjusted net enrolment rate, lower secondary, ...    UIS.NERA.2.F   \n",
       "2  Adjusted net enrolment rate, lower secondary, ...  UIS.NERA.2.GPI   \n",
       "3  Adjusted net enrolment rate, lower secondary, ...    UIS.NERA.2.M   \n",
       "4  Adjusted net enrolment rate, primary, both sex...     SE.PRM.TENR   \n",
       "\n",
       "        1970       1971       1972       1973       1974      1975  ...  2060  \\\n",
       "0        NaN        NaN        NaN        NaN        NaN       NaN  ...   NaN   \n",
       "1        NaN        NaN        NaN        NaN        NaN       NaN  ...   NaN   \n",
       "2        NaN        NaN        NaN        NaN        NaN       NaN  ...   NaN   \n",
       "3        NaN        NaN        NaN        NaN        NaN       NaN  ...   NaN   \n",
       "4  54.822121  54.894138  56.209438  57.267109  57.991138  59.36554  ...   NaN   \n",
       "\n",
       "   2065  2070  2075  2080  2085  2090  2095  2100  Unnamed: 69  \n",
       "0   NaN   NaN   NaN   NaN   NaN   NaN   NaN   NaN          NaN  \n",
       "1   NaN   NaN   NaN   NaN   NaN   NaN   NaN   NaN          NaN  \n",
       "2   NaN   NaN   NaN   NaN   NaN   NaN   NaN   NaN          NaN  \n",
       "3   NaN   NaN   NaN   NaN   NaN   NaN   NaN   NaN          NaN  \n",
       "4   NaN   NaN   NaN   NaN   NaN   NaN   NaN   NaN          NaN  \n",
       "\n",
       "[5 rows x 70 columns]"
      ]
     },
     "execution_count": 8,
     "metadata": {},
     "output_type": "execute_result"
    }
   ],
   "source": [
    "df.head()"
   ]
  },
  {
   "cell_type": "markdown",
   "metadata": {},
   "source": [
    "Nous pouvons constater que df contient de nombreuses valeurs manquantes."
   ]
  },
  {
   "cell_type": "code",
   "execution_count": 9,
   "metadata": {},
   "outputs": [
    {
     "data": {
      "text/html": [
       "<div>\n",
       "<style scoped>\n",
       "    .dataframe tbody tr th:only-of-type {\n",
       "        vertical-align: middle;\n",
       "    }\n",
       "\n",
       "    .dataframe tbody tr th {\n",
       "        vertical-align: top;\n",
       "    }\n",
       "\n",
       "    .dataframe thead th {\n",
       "        text-align: right;\n",
       "    }\n",
       "</style>\n",
       "<table border=\"1\" class=\"dataframe\">\n",
       "  <thead>\n",
       "    <tr style=\"text-align: right;\">\n",
       "      <th></th>\n",
       "      <th>Country Code</th>\n",
       "      <th>Short Name</th>\n",
       "      <th>Table Name</th>\n",
       "      <th>Long Name</th>\n",
       "      <th>2-alpha code</th>\n",
       "      <th>Currency Unit</th>\n",
       "      <th>Special Notes</th>\n",
       "      <th>Region</th>\n",
       "      <th>Income Group</th>\n",
       "      <th>WB-2 code</th>\n",
       "      <th>...</th>\n",
       "      <th>IMF data dissemination standard</th>\n",
       "      <th>Latest population census</th>\n",
       "      <th>Latest household survey</th>\n",
       "      <th>Source of most recent Income and expenditure data</th>\n",
       "      <th>Vital registration complete</th>\n",
       "      <th>Latest agricultural census</th>\n",
       "      <th>Latest industrial data</th>\n",
       "      <th>Latest trade data</th>\n",
       "      <th>Latest water withdrawal data</th>\n",
       "      <th>Unnamed: 31</th>\n",
       "    </tr>\n",
       "  </thead>\n",
       "  <tbody>\n",
       "    <tr>\n",
       "      <th>0</th>\n",
       "      <td>ABW</td>\n",
       "      <td>Aruba</td>\n",
       "      <td>Aruba</td>\n",
       "      <td>Aruba</td>\n",
       "      <td>AW</td>\n",
       "      <td>Aruban florin</td>\n",
       "      <td>SNA data for 2000-2011 are updated from offici...</td>\n",
       "      <td>Latin America &amp; Caribbean</td>\n",
       "      <td>High income: nonOECD</td>\n",
       "      <td>AW</td>\n",
       "      <td>...</td>\n",
       "      <td>NaN</td>\n",
       "      <td>2010</td>\n",
       "      <td>NaN</td>\n",
       "      <td>NaN</td>\n",
       "      <td>Yes</td>\n",
       "      <td>NaN</td>\n",
       "      <td>NaN</td>\n",
       "      <td>2012.0</td>\n",
       "      <td>NaN</td>\n",
       "      <td>NaN</td>\n",
       "    </tr>\n",
       "    <tr>\n",
       "      <th>1</th>\n",
       "      <td>AFG</td>\n",
       "      <td>Afghanistan</td>\n",
       "      <td>Afghanistan</td>\n",
       "      <td>Islamic State of Afghanistan</td>\n",
       "      <td>AF</td>\n",
       "      <td>Afghan afghani</td>\n",
       "      <td>Fiscal year end: March 20; reporting period fo...</td>\n",
       "      <td>South Asia</td>\n",
       "      <td>Low income</td>\n",
       "      <td>AF</td>\n",
       "      <td>...</td>\n",
       "      <td>General Data Dissemination System (GDDS)</td>\n",
       "      <td>1979</td>\n",
       "      <td>Multiple Indicator Cluster Survey (MICS), 2010/11</td>\n",
       "      <td>Integrated household survey (IHS), 2008</td>\n",
       "      <td>NaN</td>\n",
       "      <td>2013/14</td>\n",
       "      <td>NaN</td>\n",
       "      <td>2012.0</td>\n",
       "      <td>2000</td>\n",
       "      <td>NaN</td>\n",
       "    </tr>\n",
       "    <tr>\n",
       "      <th>2</th>\n",
       "      <td>AGO</td>\n",
       "      <td>Angola</td>\n",
       "      <td>Angola</td>\n",
       "      <td>People's Republic of Angola</td>\n",
       "      <td>AO</td>\n",
       "      <td>Angolan kwanza</td>\n",
       "      <td>April 2013 database update: Based on IMF data,...</td>\n",
       "      <td>Sub-Saharan Africa</td>\n",
       "      <td>Upper middle income</td>\n",
       "      <td>AO</td>\n",
       "      <td>...</td>\n",
       "      <td>General Data Dissemination System (GDDS)</td>\n",
       "      <td>1970</td>\n",
       "      <td>Malaria Indicator Survey (MIS), 2011</td>\n",
       "      <td>Integrated household survey (IHS), 2008</td>\n",
       "      <td>NaN</td>\n",
       "      <td>2015</td>\n",
       "      <td>NaN</td>\n",
       "      <td>NaN</td>\n",
       "      <td>2005</td>\n",
       "      <td>NaN</td>\n",
       "    </tr>\n",
       "    <tr>\n",
       "      <th>3</th>\n",
       "      <td>ALB</td>\n",
       "      <td>Albania</td>\n",
       "      <td>Albania</td>\n",
       "      <td>Republic of Albania</td>\n",
       "      <td>AL</td>\n",
       "      <td>Albanian lek</td>\n",
       "      <td>NaN</td>\n",
       "      <td>Europe &amp; Central Asia</td>\n",
       "      <td>Upper middle income</td>\n",
       "      <td>AL</td>\n",
       "      <td>...</td>\n",
       "      <td>General Data Dissemination System (GDDS)</td>\n",
       "      <td>2011</td>\n",
       "      <td>Demographic and Health Survey (DHS), 2008/09</td>\n",
       "      <td>Living Standards Measurement Study Survey (LSM...</td>\n",
       "      <td>Yes</td>\n",
       "      <td>2012</td>\n",
       "      <td>2010.0</td>\n",
       "      <td>2012.0</td>\n",
       "      <td>2006</td>\n",
       "      <td>NaN</td>\n",
       "    </tr>\n",
       "    <tr>\n",
       "      <th>4</th>\n",
       "      <td>AND</td>\n",
       "      <td>Andorra</td>\n",
       "      <td>Andorra</td>\n",
       "      <td>Principality of Andorra</td>\n",
       "      <td>AD</td>\n",
       "      <td>Euro</td>\n",
       "      <td>NaN</td>\n",
       "      <td>Europe &amp; Central Asia</td>\n",
       "      <td>High income: nonOECD</td>\n",
       "      <td>AD</td>\n",
       "      <td>...</td>\n",
       "      <td>NaN</td>\n",
       "      <td>2011. Population figures compiled from adminis...</td>\n",
       "      <td>NaN</td>\n",
       "      <td>NaN</td>\n",
       "      <td>Yes</td>\n",
       "      <td>NaN</td>\n",
       "      <td>NaN</td>\n",
       "      <td>2006.0</td>\n",
       "      <td>NaN</td>\n",
       "      <td>NaN</td>\n",
       "    </tr>\n",
       "  </tbody>\n",
       "</table>\n",
       "<p>5 rows × 32 columns</p>\n",
       "</div>"
      ],
      "text/plain": [
       "  Country Code   Short Name   Table Name                     Long Name  \\\n",
       "0          ABW        Aruba        Aruba                         Aruba   \n",
       "1          AFG  Afghanistan  Afghanistan  Islamic State of Afghanistan   \n",
       "2          AGO       Angola       Angola   People's Republic of Angola   \n",
       "3          ALB      Albania      Albania           Republic of Albania   \n",
       "4          AND      Andorra      Andorra       Principality of Andorra   \n",
       "\n",
       "  2-alpha code   Currency Unit  \\\n",
       "0           AW   Aruban florin   \n",
       "1           AF  Afghan afghani   \n",
       "2           AO  Angolan kwanza   \n",
       "3           AL    Albanian lek   \n",
       "4           AD            Euro   \n",
       "\n",
       "                                       Special Notes  \\\n",
       "0  SNA data for 2000-2011 are updated from offici...   \n",
       "1  Fiscal year end: March 20; reporting period fo...   \n",
       "2  April 2013 database update: Based on IMF data,...   \n",
       "3                                                NaN   \n",
       "4                                                NaN   \n",
       "\n",
       "                      Region          Income Group WB-2 code  ...  \\\n",
       "0  Latin America & Caribbean  High income: nonOECD        AW  ...   \n",
       "1                 South Asia            Low income        AF  ...   \n",
       "2         Sub-Saharan Africa   Upper middle income        AO  ...   \n",
       "3      Europe & Central Asia   Upper middle income        AL  ...   \n",
       "4      Europe & Central Asia  High income: nonOECD        AD  ...   \n",
       "\n",
       "            IMF data dissemination standard  \\\n",
       "0                                       NaN   \n",
       "1  General Data Dissemination System (GDDS)   \n",
       "2  General Data Dissemination System (GDDS)   \n",
       "3  General Data Dissemination System (GDDS)   \n",
       "4                                       NaN   \n",
       "\n",
       "                            Latest population census  \\\n",
       "0                                               2010   \n",
       "1                                               1979   \n",
       "2                                               1970   \n",
       "3                                               2011   \n",
       "4  2011. Population figures compiled from adminis...   \n",
       "\n",
       "                             Latest household survey  \\\n",
       "0                                                NaN   \n",
       "1  Multiple Indicator Cluster Survey (MICS), 2010/11   \n",
       "2               Malaria Indicator Survey (MIS), 2011   \n",
       "3       Demographic and Health Survey (DHS), 2008/09   \n",
       "4                                                NaN   \n",
       "\n",
       "   Source of most recent Income and expenditure data  \\\n",
       "0                                                NaN   \n",
       "1            Integrated household survey (IHS), 2008   \n",
       "2            Integrated household survey (IHS), 2008   \n",
       "3  Living Standards Measurement Study Survey (LSM...   \n",
       "4                                                NaN   \n",
       "\n",
       "  Vital registration complete Latest agricultural census  \\\n",
       "0                         Yes                        NaN   \n",
       "1                         NaN                    2013/14   \n",
       "2                         NaN                       2015   \n",
       "3                         Yes                       2012   \n",
       "4                         Yes                        NaN   \n",
       "\n",
       "  Latest industrial data Latest trade data Latest water withdrawal data  \\\n",
       "0                    NaN            2012.0                          NaN   \n",
       "1                    NaN            2012.0                         2000   \n",
       "2                    NaN               NaN                         2005   \n",
       "3                 2010.0            2012.0                         2006   \n",
       "4                    NaN            2006.0                          NaN   \n",
       "\n",
       "  Unnamed: 31  \n",
       "0         NaN  \n",
       "1         NaN  \n",
       "2         NaN  \n",
       "3         NaN  \n",
       "4         NaN  \n",
       "\n",
       "[5 rows x 32 columns]"
      ]
     },
     "execution_count": 9,
     "metadata": {},
     "output_type": "execute_result"
    }
   ],
   "source": [
    "dfc.head()"
   ]
  },
  {
   "cell_type": "markdown",
   "metadata": {},
   "source": [
    "Il en est de meme pour dfc"
   ]
  },
  {
   "cell_type": "markdown",
   "metadata": {},
   "source": [
    "### Traitement du dataframe dfc\n",
    "\n",
    "En vue de l'etude demandee, choix de ne retenir que les codes des pays, leur nom, leur region et le groupe de revenus"
   ]
  },
  {
   "cell_type": "code",
   "execution_count": 10,
   "metadata": {},
   "outputs": [
    {
     "name": "stdout",
     "output_type": "stream",
     "text": [
      "<class 'pandas.core.frame.DataFrame'>\n",
      "RangeIndex: 241 entries, 0 to 240\n",
      "Data columns (total 4 columns):\n",
      " #   Column        Non-Null Count  Dtype \n",
      "---  ------        --------------  ----- \n",
      " 0   Country Code  241 non-null    object\n",
      " 1   Short Name    241 non-null    object\n",
      " 2   Region        214 non-null    object\n",
      " 3   Income Group  214 non-null    object\n",
      "dtypes: object(4)\n",
      "memory usage: 7.7+ KB\n"
     ]
    }
   ],
   "source": [
    "dfcs=dfc.loc[:,['Country Code','Short Name', 'Region', 'Income Group']]\n",
    "dfcs.info()"
   ]
  },
  {
   "cell_type": "markdown",
   "metadata": {},
   "source": [
    "On constate que toutes les valeurs sont renseignees pour le code et le nom des pays.  \n",
    "27 non reponses concernant la region et le niveau de revenus  \n",
    "\n",
    "Suppression des lignes pour lesquelles la region n'est pas renseignee"
   ]
  },
  {
   "cell_type": "code",
   "execution_count": 11,
   "metadata": {},
   "outputs": [
    {
     "name": "stdout",
     "output_type": "stream",
     "text": [
      "<class 'pandas.core.frame.DataFrame'>\n",
      "Int64Index: 214 entries, 0 to 240\n",
      "Data columns (total 4 columns):\n",
      " #   Column        Non-Null Count  Dtype \n",
      "---  ------        --------------  ----- \n",
      " 0   Country Code  214 non-null    object\n",
      " 1   Short Name    214 non-null    object\n",
      " 2   Region        214 non-null    object\n",
      " 3   Income Group  214 non-null    object\n",
      "dtypes: object(4)\n",
      "memory usage: 8.4+ KB\n"
     ]
    }
   ],
   "source": [
    "dfcs.drop(dfcs.index[dfcs['Region'].isnull()],0,inplace=True)\n",
    "dfcs.info()"
   ]
  },
  {
   "cell_type": "markdown",
   "metadata": {},
   "source": [
    "Il n'y a donc plus de valeurs manquantes\n",
    "\n",
    "Changement du nom de la colonne 'Short Name' par 'Country' pour plus de comprehension\n"
   ]
  },
  {
   "cell_type": "code",
   "execution_count": 12,
   "metadata": {},
   "outputs": [],
   "source": [
    "dfcs.rename(columns={'Short Name':'Country'},inplace=True)"
   ]
  },
  {
   "cell_type": "markdown",
   "metadata": {},
   "source": [
    "On regarde quelles sont les regions et les groupes possibles de revenus"
   ]
  },
  {
   "cell_type": "code",
   "execution_count": 13,
   "metadata": {},
   "outputs": [
    {
     "name": "stdout",
     "output_type": "stream",
     "text": [
      "['Latin America & Caribbean' 'South Asia' 'Sub-Saharan Africa'\n",
      " 'Europe & Central Asia' 'Middle East & North Africa'\n",
      " 'East Asia & Pacific' 'North America']\n",
      "['High income: nonOECD' 'Low income' 'Upper middle income'\n",
      " 'Lower middle income' 'High income: OECD']\n"
     ]
    }
   ],
   "source": [
    "regions=dfcs['Region'].unique()\n",
    "print(regions)\n",
    "print(dfcs['Income Group'].unique())"
   ]
  },
  {
   "cell_type": "markdown",
   "metadata": {},
   "source": [
    "Dans la colonne 'Income Group', on ne va pas faire de difference dans la methode de qualification de 'High income'"
   ]
  },
  {
   "cell_type": "code",
   "execution_count": 14,
   "metadata": {},
   "outputs": [],
   "source": [
    "dfcs['Income Group']=dfcs['Income Group'].apply(lambda x: 'High income' if ('High income' in x)  else x)"
   ]
  },
  {
   "cell_type": "markdown",
   "metadata": {},
   "source": [
    "Regardons le nombre de pays par region"
   ]
  },
  {
   "cell_type": "code",
   "execution_count": 15,
   "metadata": {},
   "outputs": [
    {
     "data": {
      "text/plain": [
       "Europe & Central Asia         57\n",
       "Sub-Saharan Africa            48\n",
       "Latin America & Caribbean     41\n",
       "East Asia & Pacific           36\n",
       "Middle East & North Africa    21\n",
       "South Asia                     8\n",
       "North America                  3\n",
       "Name: Region, dtype: int64"
      ]
     },
     "execution_count": 15,
     "metadata": {},
     "output_type": "execute_result"
    }
   ],
   "source": [
    "dfcs['Region'].value_counts()"
   ]
  },
  {
   "cell_type": "markdown",
   "metadata": {},
   "source": [
    "Quels sont les pays dans la region North America ?"
   ]
  },
  {
   "cell_type": "code",
   "execution_count": 16,
   "metadata": {},
   "outputs": [
    {
     "data": {
      "text/plain": [
       "25           Bermuda\n",
       "33            Canada\n",
       "227    United States\n",
       "Name: Country, dtype: object"
      ]
     },
     "execution_count": 16,
     "metadata": {},
     "output_type": "execute_result"
    }
   ],
   "source": [
    "dfcs[dfcs['Region']=='North America']['Country']"
   ]
  },
  {
   "cell_type": "markdown",
   "metadata": {},
   "source": [
    "### Traitement du dataframe df\n",
    "\n",
    "\n",
    "En ayant regarde le site de Worldbank concernant l'education [Lien](https://datatopics.worldbank.org/education/), on remarque :  \n",
    "- certaines colonnes concernent le passe et d'autres le futur\n",
    "- les indicateurs qui, a priori, nous interessent le plus\n",
    "\n",
    "Decision de commencer par construire deux dataframe, l'un concernant le passe (df_past) et l'autre le futur (df_futur).  \n",
    "\n",
    "Pour df_past, on choisit :  \n",
    "- les annees pas trop eloignees et qui sont relativement remplies : 2013, 2014 et 2015\n",
    "- les indicateurs concernant la taille de la population, le taux de croissance de la population, le pourcentage de la population utilisant le net\n",
    "\n",
    "Pour df_futur :\n",
    "- les annees 2025,2030 et 2035\n",
    "- les indicateurs concernant la projection des 15-19 ans ayant un niveau d'etudes 2, 3 ou 4 \n",
    "\n",
    "\n",
    "A priori, c'est cette pououlation des 15-19 ans qui est la plus concernee par des cours en ligne."
   ]
  },
  {
   "cell_type": "markdown",
   "metadata": {},
   "source": [
    "### Creation et traitement du dataframe df_past\n",
    "\n",
    "Correspondance entre le nom des indicateurs dans df et dans df_past et leur signification  \n",
    "\n",
    "\n",
    "|df|df-past|signification|\n",
    "|:---:|:---:|:---:|\n",
    "|SP.POP.TOTL|POP.TOTL|Population Totale|\n",
    "|SP.POP.GROW|%.POP.GROWTH|Pourcentage de croissance de la population|\n",
    "|IT.NET.USER.P2|%.INTERNET.USER|Pourcentage de la population utilisant INTERNET|\n"
   ]
  },
  {
   "cell_type": "code",
   "execution_count": 17,
   "metadata": {},
   "outputs": [
    {
     "data": {
      "text/html": [
       "<div>\n",
       "<style scoped>\n",
       "    .dataframe tbody tr th:only-of-type {\n",
       "        vertical-align: middle;\n",
       "    }\n",
       "\n",
       "    .dataframe tbody tr th {\n",
       "        vertical-align: top;\n",
       "    }\n",
       "\n",
       "    .dataframe thead th {\n",
       "        text-align: right;\n",
       "    }\n",
       "</style>\n",
       "<table border=\"1\" class=\"dataframe\">\n",
       "  <thead>\n",
       "    <tr style=\"text-align: right;\">\n",
       "      <th></th>\n",
       "      <th>Country Code</th>\n",
       "      <th>Country Name</th>\n",
       "      <th>Indicator Code</th>\n",
       "      <th>2013</th>\n",
       "      <th>2014</th>\n",
       "      <th>2015</th>\n",
       "    </tr>\n",
       "  </thead>\n",
       "  <tbody>\n",
       "    <tr>\n",
       "      <th>1375</th>\n",
       "      <td>ARB</td>\n",
       "      <td>Arab World</td>\n",
       "      <td>%.INTERNET.USER</td>\n",
       "      <td>3.686860e+01</td>\n",
       "      <td>NaN</td>\n",
       "      <td>NaN</td>\n",
       "    </tr>\n",
       "    <tr>\n",
       "      <th>2307</th>\n",
       "      <td>ARB</td>\n",
       "      <td>Arab World</td>\n",
       "      <td>%.POP.GROWTH</td>\n",
       "      <td>2.012570e+00</td>\n",
       "      <td>NaN</td>\n",
       "      <td>NaN</td>\n",
       "    </tr>\n",
       "    <tr>\n",
       "      <th>2533</th>\n",
       "      <td>ARB</td>\n",
       "      <td>Arab World</td>\n",
       "      <td>POP.TOTL</td>\n",
       "      <td>3.697615e+08</td>\n",
       "      <td>NaN</td>\n",
       "      <td>NaN</td>\n",
       "    </tr>\n",
       "    <tr>\n",
       "      <th>5040</th>\n",
       "      <td>EAS</td>\n",
       "      <td>East Asia &amp; Pacific</td>\n",
       "      <td>%.INTERNET.USER</td>\n",
       "      <td>4.457735e+01</td>\n",
       "      <td>46.812103</td>\n",
       "      <td>49.787924</td>\n",
       "    </tr>\n",
       "    <tr>\n",
       "      <th>5972</th>\n",
       "      <td>EAS</td>\n",
       "      <td>East Asia &amp; Pacific</td>\n",
       "      <td>%.POP.GROWTH</td>\n",
       "      <td>6.764621e-01</td>\n",
       "      <td>0.681871</td>\n",
       "      <td>0.675463</td>\n",
       "    </tr>\n",
       "  </tbody>\n",
       "</table>\n",
       "</div>"
      ],
      "text/plain": [
       "     Country Code         Country Name   Indicator Code          2013  \\\n",
       "1375          ARB           Arab World  %.INTERNET.USER  3.686860e+01   \n",
       "2307          ARB           Arab World     %.POP.GROWTH  2.012570e+00   \n",
       "2533          ARB           Arab World         POP.TOTL  3.697615e+08   \n",
       "5040          EAS  East Asia & Pacific  %.INTERNET.USER  4.457735e+01   \n",
       "5972          EAS  East Asia & Pacific     %.POP.GROWTH  6.764621e-01   \n",
       "\n",
       "           2014       2015  \n",
       "1375        NaN        NaN  \n",
       "2307        NaN        NaN  \n",
       "2533        NaN        NaN  \n",
       "5040  46.812103  49.787924  \n",
       "5972   0.681871   0.675463  "
      ]
     },
     "execution_count": 17,
     "metadata": {},
     "output_type": "execute_result"
    }
   ],
   "source": [
    "dftemp=df[['Country Code','Country Name','Indicator Code','2013','2014','2015']]\n",
    "df_past=dftemp[dftemp['Indicator Code'].isin(['SP.POP.TOTL','SP.POP.GROW','IT.NET.USER.P2'])].copy()\n",
    "df_past['Indicator Code']=df_past['Indicator Code'].apply(lambda x: 'POP.TOTL'\n",
    "                                                          if x=='SP.POP.TOTL'  \n",
    "                                                          else ('%.POP.GROWTH' if x=='SP.POP.GROW' else '%.INTERNET.USER' ))\n",
    "df_past.head()"
   ]
  },
  {
   "cell_type": "markdown",
   "metadata": {},
   "source": [
    "Les premieres lignes ne concernent pas des pays mais des regions ou le groupe de revenus."
   ]
  },
  {
   "cell_type": "markdown",
   "metadata": {},
   "source": [
    "#### Comparaison sur l'evolution, entre 2013 et 2015, de la population et de l'usage d'Internet pour les revenus superieurs \n",
    "\n",
    "Nous allons nous interesser aux pays qui ont un niveau de revenus eleve puisque la start-up a une preoccupation business et non caritative.  \n",
    "\n",
    "Representation de cette evolution en y incluant le monde en global"
   ]
  },
  {
   "cell_type": "code",
   "execution_count": 19,
   "metadata": {},
   "outputs": [
    {
     "data": {
      "text/plain": [
       "Text(0, 0.5, 'Pourcentage de Croissance de la population')"
      ]
     },
     "execution_count": 19,
     "metadata": {},
     "output_type": "execute_result"
    },
    {
     "data": {
      "image/png": "[encoded data removed]",
      "text/plain": [
       "<Figure size 576x576 with 2 Axes>"
      ]
     },
     "metadata": {
      "needs_background": "light"
     },
     "output_type": "display_data"
    }
   ],
   "source": [
    "plt.figure(2,figsize=(8,8))\n",
    "plt.suptitle('Evolution suivant le niveau de revenus')\n",
    "\n",
    "plt.subplot(2,1,1)\n",
    "df_NIC=df_past[((df_past['Country Code'].isin(['HIC','UMC','WLD']))&(df_past['Indicator Code']=='%.INTERNET.USER'))].copy()\n",
    "grNIC=plt.plot(df_NIC[['2013','2014','2015']].T,marker='o')\n",
    "plt.legend(grNIC,df_NIC['Country Name'],bbox_to_anchor=(1.05, 1.0), loc='upper left')\n",
    "plt.title('Evolution pour INTERNET')\n",
    "plt.ylabel('% de la population utilisant internet')\n",
    "\n",
    "plt.subplot(2,1,2)\n",
    "df_POP=df_past[((df_past['Country Code'].isin(['HIC','UMC','WLD']))&(df_past['Indicator Code']=='%.POP.GROWTH'))].copy()\n",
    "grPOP=plt.plot(df_POP[['2013','2014','2015']].T,marker='o')\n",
    "plt.legend(grPOP,df_POP['Country Name'],bbox_to_anchor=(1.05, 1.0), loc='upper left')\n",
    "plt.title('Evolution de la croissance de la population')\n",
    "plt.ylabel('Pourcentage de Croissance de la population')"
   ]
  },
  {
   "cell_type": "markdown",
   "metadata": {},
   "source": [
    "Nous remarquons que les habitants des pays \"riches\" ont l'habitude d'utiliser internet (plus de 80 % de la population) dès 2015.\n",
    "Ceci confirme d'opter pour s'interesser aux pays riches pour le projet d'expansion."
   ]
  },
  {
   "cell_type": "markdown",
   "metadata": {},
   "source": [
    "#### Comparaison de l'evolution de la population et de l'usage d'internet suivant les regions \n",
    "\n",
    "Evolution du taux d'utilisation d'internet par region"
   ]
  },
  {
   "cell_type": "code",
   "execution_count": 55,
   "metadata": {},
   "outputs": [
    {
     "data": {
      "text/plain": [
       "Text(0.5, 0.98, 'Evolution du Pourcentage de la population utilisant Internet')"
      ]
     },
     "execution_count": 55,
     "metadata": {},
     "output_type": "execute_result"
    },
    {
     "data": {
      "image/png": "[encoded data removed]",
      "text/plain": [
       "<Figure size 893.58x595.44 with 1 Axes>"
      ]
     },
     "metadata": {},
     "output_type": "display_data"
    }
   ],
   "source": [
    "df_reg_net=df_past[((df_past['Country Name'].isin(regions))&(df_past['Indicator Code']=='%.INTERNET.USER'))].copy()\n",
    "reg_net=df_reg_net[['Country Name','2013','2014','2015']].melt(id_vars=['Country Name'],value_vars=['2013','2014','2015'],\n",
    "                                                              var_name='Annee',value_name='%.INTERNET.USER')\n",
    "sns.set(font_scale=0.8)\n",
    "ax=sns.catplot(x='Country Name',y='%.INTERNET.USER',hue='Annee',\n",
    "               data=reg_net,kind='bar', height=8.27, aspect=11.7/8.27,palette='Blues')\n",
    "ax.fig.suptitle('Evolution du Pourcentage de la population utilisant Internet')"
   ]
  },
  {
   "cell_type": "markdown",
   "metadata": {},
   "source": [
    "Evolution du taux de croissance de la population par region"
   ]
  },
  {
   "cell_type": "code",
   "execution_count": 68,
   "metadata": {},
   "outputs": [
    {
     "data": {
      "text/html": [
       "<div>\n",
       "<style scoped>\n",
       "    .dataframe tbody tr th:only-of-type {\n",
       "        vertical-align: middle;\n",
       "    }\n",
       "\n",
       "    .dataframe tbody tr th {\n",
       "        vertical-align: top;\n",
       "    }\n",
       "\n",
       "    .dataframe thead th {\n",
       "        text-align: right;\n",
       "    }\n",
       "</style>\n",
       "<table border=\"1\" class=\"dataframe\">\n",
       "  <thead>\n",
       "    <tr style=\"text-align: right;\">\n",
       "      <th></th>\n",
       "      <th>Country Name</th>\n",
       "      <th>Annee</th>\n",
       "      <th>%.INTERNET.USER</th>\n",
       "    </tr>\n",
       "  </thead>\n",
       "  <tbody>\n",
       "    <tr>\n",
       "      <th>0</th>\n",
       "      <td>East Asia &amp; Pacific</td>\n",
       "      <td>2013</td>\n",
       "      <td>44.577349</td>\n",
       "    </tr>\n",
       "    <tr>\n",
       "      <th>1</th>\n",
       "      <td>Europe &amp; Central Asia</td>\n",
       "      <td>2013</td>\n",
       "      <td>66.306669</td>\n",
       "    </tr>\n",
       "    <tr>\n",
       "      <th>2</th>\n",
       "      <td>Latin America &amp; Caribbean</td>\n",
       "      <td>2013</td>\n",
       "      <td>46.261883</td>\n",
       "    </tr>\n",
       "    <tr>\n",
       "      <th>3</th>\n",
       "      <td>Middle East &amp; North Africa</td>\n",
       "      <td>2013</td>\n",
       "      <td>35.249798</td>\n",
       "    </tr>\n",
       "    <tr>\n",
       "      <th>4</th>\n",
       "      <td>North America</td>\n",
       "      <td>2013</td>\n",
       "      <td>72.830288</td>\n",
       "    </tr>\n",
       "  </tbody>\n",
       "</table>\n",
       "</div>"
      ],
      "text/plain": [
       "                 Country Name Annee  %.INTERNET.USER\n",
       "0         East Asia & Pacific  2013        44.577349\n",
       "1       Europe & Central Asia  2013        66.306669\n",
       "2   Latin America & Caribbean  2013        46.261883\n",
       "3  Middle East & North Africa  2013        35.249798\n",
       "4               North America  2013        72.830288"
      ]
     },
     "execution_count": 68,
     "metadata": {},
     "output_type": "execute_result"
    }
   ],
   "source": [
    "reg_net.head()"
   ]
  },
  {
   "cell_type": "code",
   "execution_count": 54,
   "metadata": {},
   "outputs": [
    {
     "data": {
      "text/plain": [
       "Text(0.5, 0.98, 'Evolution du Pourcentage de Croissance de la Population')"
      ]
     },
     "execution_count": 54,
     "metadata": {},
     "output_type": "execute_result"
    },
    {
     "data": {
      "image/png": "[encoded data removed]",
      "text/plain": [
       "<Figure size 893.58x595.44 with 1 Axes>"
      ]
     },
     "metadata": {},
     "output_type": "display_data"
    }
   ],
   "source": [
    "df_reg_pop=df_past[((df_past['Country Name'].isin(regions))&(df_past['Indicator Code']=='%.POP.GROWTH'))].copy()\n",
    "reg_pop=df_reg_pop[['Country Name','2013','2014','2015']].melt(id_vars=['Country Name'],value_vars=['2013','2014','2015'],\n",
    "                                                              var_name='Annee',value_name='%.POP.GROWTH')\n",
    "sns.set(font_scale=0.8)\n",
    "ax=sns.catplot(x='Country Name',y='%.POP.GROWTH',hue='Annee',\n",
    "               data=reg_pop,kind='bar', height=8.27, aspect=11.7/8.27,palette='Oranges')\n",
    "ax.fig.suptitle('Evolution du Pourcentage de Croissance de la Population')"
   ]
  },
  {
   "cell_type": "code",
   "execution_count": 53,
   "metadata": {},
   "outputs": [
    {
     "data": {
      "text/plain": [
       "Text(0.5, 0.98, 'Population Totale en milliards en 2015')"
      ]
     },
     "execution_count": 53,
     "metadata": {},
     "output_type": "execute_result"
    },
    {
     "data": {
      "image/png": "[encoded data removed]",
      "text/plain": [
       "<Figure size 842.4x595.44 with 1 Axes>"
      ]
     },
     "metadata": {},
     "output_type": "display_data"
    }
   ],
   "source": [
    "df_reg=df_past[((df_past['Country Name'].isin(regions))&(df_past['Indicator Code']=='POP.TOTL'))].copy()\n",
    "\n",
    "sns.set(font_scale=0.8)\n",
    "ax=sns.catplot(x='Country Name',y='2015',color='Green',\n",
    "               data=df_reg,kind='bar', height=8.27, aspect=11.7/8.27)\n",
    "ax.fig.suptitle('Population Totale en milliards en 2015')"
   ]
  },
  {
   "cell_type": "markdown",
   "metadata": {},
   "source": [
    "Que conclure de ces graphiques ?  \n",
    "- La region d'Amerique du Nord ne semble pas pertinente pour l'etude d'expansion parce que les cours en ligne y sont deja tres developpes et qu'il serait sans doute pretentieux et risque de vouloir rivaliser avec les plateformes qui travaillent avec les grandes universites americaines et canadiennes (voir Coursera, Edx, etc..)\n",
    "- La region europe et Asie Centrale est seduisante, ayant une population nombreuse et dont le taux de croissance augmente légèrement, une utilisation d'internet ancree dans les moeurs et constituee de nombreux pays riches."
   ]
  },
  {
   "cell_type": "markdown",
   "metadata": {},
   "source": [
    "###  Creation et traitement du dataframe df_futur\n",
    "\n",
    "Correspondance entre le nom des indicateurs dans df et dans df_futur et leur signification  \n",
    "\n",
    "\n",
    "|df|df-futur|signification|\n",
    "|:---:|:---:|:---:|\n",
    "|PRJ.POP.1519.2.MF|POP.15-19ANS.NIV2|Estimation du nombre (en milliers) des 15-19 ans ayant un niveau 2 (collège)|\n",
    "|PRJ.POP.1519.3.MF|POP.15-19ANS.NIV3|Estimation du nombre (en milliers) des 15-19 ans ayant un niveau 3 (lycée)|\n",
    "|PRJ.POP.1519.4.MF|POP.15-19ANS.NIV4|Estimation du nombre (en milliers) des 15-19 ans ayant un niveau 4 (post-BAC)|"
   ]
  },
  {
   "cell_type": "code",
   "execution_count": 23,
   "metadata": {},
   "outputs": [
    {
     "name": "stdout",
     "output_type": "stream",
     "text": [
      "<class 'pandas.core.frame.DataFrame'>\n",
      "Int64Index: 726 entries, 3590 to 886867\n",
      "Data columns (total 5 columns):\n",
      " #   Column          Non-Null Count  Dtype  \n",
      "---  ------          --------------  -----  \n",
      " 0   Country Code    726 non-null    object \n",
      " 1   Indicator Code  726 non-null    object \n",
      " 2   2025            501 non-null    float64\n",
      " 3   2030            501 non-null    float64\n",
      " 4   2035            501 non-null    float64\n",
      "dtypes: float64(3), object(2)\n",
      "memory usage: 34.0+ KB\n"
     ]
    }
   ],
   "source": [
    "dftemp=df[['Country Code','Indicator Code','2025','2030','2035']]\n",
    "df_futur=dftemp[dftemp['Indicator Code'].isin(['PRJ.POP.1519.2.MF','PRJ.POP.1519.3.MF','PRJ.POP.1519.4.MF'])].copy()\n",
    "\n",
    "df_futur['Indicator Code']=df_futur['Indicator Code'].apply(\n",
    "    lambda x: 'POP.15-19ANS.NIV2' if x=='PRJ.POP.1519.2.MF' else ('POP.15-19ANS.NIV3' \n",
    "                                                                  if x=='PRJ.POP.1519.3.MF' else 'POP.15-19ANS.NIV4'))\n",
    "\n",
    "df_futur.info()"
   ]
  },
  {
   "cell_type": "markdown",
   "metadata": {},
   "source": [
    "Suppression des lignes contenant des valeurs non renseignees"
   ]
  },
  {
   "cell_type": "code",
   "execution_count": 24,
   "metadata": {},
   "outputs": [
    {
     "data": {
      "text/html": [
       "<div>\n",
       "<style scoped>\n",
       "    .dataframe tbody tr th:only-of-type {\n",
       "        vertical-align: middle;\n",
       "    }\n",
       "\n",
       "    .dataframe tbody tr th {\n",
       "        vertical-align: top;\n",
       "    }\n",
       "\n",
       "    .dataframe thead th {\n",
       "        text-align: right;\n",
       "    }\n",
       "</style>\n",
       "<table border=\"1\" class=\"dataframe\">\n",
       "  <thead>\n",
       "    <tr style=\"text-align: right;\">\n",
       "      <th></th>\n",
       "      <th>Country Code</th>\n",
       "      <th>Indicator Code</th>\n",
       "      <th>2025</th>\n",
       "      <th>2030</th>\n",
       "      <th>2035</th>\n",
       "    </tr>\n",
       "  </thead>\n",
       "  <tbody>\n",
       "    <tr>\n",
       "      <th>91550</th>\n",
       "      <td>WLD</td>\n",
       "      <td>POP.15-19ANS.NIV2</td>\n",
       "      <td>230598.70</td>\n",
       "      <td>228785.94</td>\n",
       "      <td>229178.84</td>\n",
       "    </tr>\n",
       "    <tr>\n",
       "      <th>91556</th>\n",
       "      <td>WLD</td>\n",
       "      <td>POP.15-19ANS.NIV4</td>\n",
       "      <td>11431.60</td>\n",
       "      <td>12075.71</td>\n",
       "      <td>12729.74</td>\n",
       "    </tr>\n",
       "    <tr>\n",
       "      <th>91562</th>\n",
       "      <td>WLD</td>\n",
       "      <td>POP.15-19ANS.NIV3</td>\n",
       "      <td>191180.20</td>\n",
       "      <td>200881.46</td>\n",
       "      <td>210888.27</td>\n",
       "    </tr>\n",
       "    <tr>\n",
       "      <th>98880</th>\n",
       "      <td>ALB</td>\n",
       "      <td>POP.15-19ANS.NIV2</td>\n",
       "      <td>170.39</td>\n",
       "      <td>153.82</td>\n",
       "      <td>153.89</td>\n",
       "    </tr>\n",
       "    <tr>\n",
       "      <th>98886</th>\n",
       "      <td>ALB</td>\n",
       "      <td>POP.15-19ANS.NIV4</td>\n",
       "      <td>0.00</td>\n",
       "      <td>0.00</td>\n",
       "      <td>0.00</td>\n",
       "    </tr>\n",
       "  </tbody>\n",
       "</table>\n",
       "</div>"
      ],
      "text/plain": [
       "      Country Code     Indicator Code       2025       2030       2035\n",
       "91550          WLD  POP.15-19ANS.NIV2  230598.70  228785.94  229178.84\n",
       "91556          WLD  POP.15-19ANS.NIV4   11431.60   12075.71   12729.74\n",
       "91562          WLD  POP.15-19ANS.NIV3  191180.20  200881.46  210888.27\n",
       "98880          ALB  POP.15-19ANS.NIV2     170.39     153.82     153.89\n",
       "98886          ALB  POP.15-19ANS.NIV4       0.00       0.00       0.00"
      ]
     },
     "execution_count": 24,
     "metadata": {},
     "output_type": "execute_result"
    }
   ],
   "source": [
    "df_futur.dropna(subset=['2025','2030','2035'],inplace=True)\n",
    "df_futur.head()"
   ]
  },
  {
   "cell_type": "markdown",
   "metadata": {},
   "source": [
    "Fusion des dataframe df_futur et dfc pour regrouper toutes les informations"
   ]
  },
  {
   "cell_type": "code",
   "execution_count": 25,
   "metadata": {},
   "outputs": [],
   "source": [
    "dfcomp_futur=pd.merge(df_futur,dfcs,how=\"outer\")"
   ]
  },
  {
   "cell_type": "markdown",
   "metadata": {},
   "source": [
    "Suppression des valeurs manquantes et de la colonne 'Country Code' (moins explicite que 'Country')"
   ]
  },
  {
   "cell_type": "code",
   "execution_count": 26,
   "metadata": {},
   "outputs": [
    {
     "data": {
      "text/html": [
       "<div>\n",
       "<style scoped>\n",
       "    .dataframe tbody tr th:only-of-type {\n",
       "        vertical-align: middle;\n",
       "    }\n",
       "\n",
       "    .dataframe tbody tr th {\n",
       "        vertical-align: top;\n",
       "    }\n",
       "\n",
       "    .dataframe thead th {\n",
       "        text-align: right;\n",
       "    }\n",
       "</style>\n",
       "<table border=\"1\" class=\"dataframe\">\n",
       "  <thead>\n",
       "    <tr style=\"text-align: right;\">\n",
       "      <th></th>\n",
       "      <th>Indicator Code</th>\n",
       "      <th>2025</th>\n",
       "      <th>2030</th>\n",
       "      <th>2035</th>\n",
       "      <th>Country</th>\n",
       "      <th>Region</th>\n",
       "      <th>Income Group</th>\n",
       "    </tr>\n",
       "  </thead>\n",
       "  <tbody>\n",
       "    <tr>\n",
       "      <th>3</th>\n",
       "      <td>POP.15-19ANS.NIV2</td>\n",
       "      <td>170.39</td>\n",
       "      <td>153.82</td>\n",
       "      <td>153.89</td>\n",
       "      <td>Albania</td>\n",
       "      <td>Europe &amp; Central Asia</td>\n",
       "      <td>Upper middle income</td>\n",
       "    </tr>\n",
       "    <tr>\n",
       "      <th>4</th>\n",
       "      <td>POP.15-19ANS.NIV4</td>\n",
       "      <td>0.00</td>\n",
       "      <td>0.00</td>\n",
       "      <td>0.00</td>\n",
       "      <td>Albania</td>\n",
       "      <td>Europe &amp; Central Asia</td>\n",
       "      <td>Upper middle income</td>\n",
       "    </tr>\n",
       "    <tr>\n",
       "      <th>5</th>\n",
       "      <td>POP.15-19ANS.NIV3</td>\n",
       "      <td>25.29</td>\n",
       "      <td>24.83</td>\n",
       "      <td>27.06</td>\n",
       "      <td>Albania</td>\n",
       "      <td>Europe &amp; Central Asia</td>\n",
       "      <td>Upper middle income</td>\n",
       "    </tr>\n",
       "    <tr>\n",
       "      <th>6</th>\n",
       "      <td>POP.15-19ANS.NIV2</td>\n",
       "      <td>1354.02</td>\n",
       "      <td>1322.09</td>\n",
       "      <td>1249.82</td>\n",
       "      <td>Algeria</td>\n",
       "      <td>Middle East &amp; North Africa</td>\n",
       "      <td>Upper middle income</td>\n",
       "    </tr>\n",
       "    <tr>\n",
       "      <th>7</th>\n",
       "      <td>POP.15-19ANS.NIV4</td>\n",
       "      <td>237.01</td>\n",
       "      <td>266.81</td>\n",
       "      <td>288.81</td>\n",
       "      <td>Algeria</td>\n",
       "      <td>Middle East &amp; North Africa</td>\n",
       "      <td>Upper middle income</td>\n",
       "    </tr>\n",
       "  </tbody>\n",
       "</table>\n",
       "</div>"
      ],
      "text/plain": [
       "      Indicator Code     2025     2030     2035  Country  \\\n",
       "3  POP.15-19ANS.NIV2   170.39   153.82   153.89  Albania   \n",
       "4  POP.15-19ANS.NIV4     0.00     0.00     0.00  Albania   \n",
       "5  POP.15-19ANS.NIV3    25.29    24.83    27.06  Albania   \n",
       "6  POP.15-19ANS.NIV2  1354.02  1322.09  1249.82  Algeria   \n",
       "7  POP.15-19ANS.NIV4   237.01   266.81   288.81  Algeria   \n",
       "\n",
       "                       Region         Income Group  \n",
       "3       Europe & Central Asia  Upper middle income  \n",
       "4       Europe & Central Asia  Upper middle income  \n",
       "5       Europe & Central Asia  Upper middle income  \n",
       "6  Middle East & North Africa  Upper middle income  \n",
       "7  Middle East & North Africa  Upper middle income  "
      ]
     },
     "execution_count": 26,
     "metadata": {},
     "output_type": "execute_result"
    }
   ],
   "source": [
    "dfcomp_futur.dropna(inplace=True)\n",
    "dfcomp_futur.drop(['Country Code'],axis=1,inplace=True)\n",
    "dfcomp_futur.head()"
   ]
  },
  {
   "cell_type": "code",
   "execution_count": 27,
   "metadata": {},
   "outputs": [
    {
     "name": "stdout",
     "output_type": "stream",
     "text": [
      "<class 'pandas.core.frame.DataFrame'>\n",
      "Int64Index: 498 entries, 3 to 500\n",
      "Data columns (total 7 columns):\n",
      " #   Column          Non-Null Count  Dtype  \n",
      "---  ------          --------------  -----  \n",
      " 0   Indicator Code  498 non-null    object \n",
      " 1   2025            498 non-null    float64\n",
      " 2   2030            498 non-null    float64\n",
      " 3   2035            498 non-null    float64\n",
      " 4   Country         498 non-null    object \n",
      " 5   Region          498 non-null    object \n",
      " 6   Income Group    498 non-null    object \n",
      "dtypes: float64(3), object(4)\n",
      "memory usage: 31.1+ KB\n"
     ]
    }
   ],
   "source": [
    "# verification que le dataframe est \"correct\"\n",
    "dfcomp_futur.info()"
   ]
  },
  {
   "cell_type": "markdown",
   "metadata": {},
   "source": [
    "On dispose donc de renseignements sur 498//3=166 pays.  \n",
    "D'après ce que l'on a vu précedemment, il n'est pas utile de travailler sur la region d'Amerique du nord.  \n",
    "Nous allons donc supprimer ce qui concerne cette region pour la suite de l'etude."
   ]
  },
  {
   "cell_type": "code",
   "execution_count": 28,
   "metadata": {},
   "outputs": [
    {
     "name": "stdout",
     "output_type": "stream",
     "text": [
      "<class 'pandas.core.frame.DataFrame'>\n",
      "Int64Index: 492 entries, 3 to 500\n",
      "Data columns (total 7 columns):\n",
      " #   Column          Non-Null Count  Dtype  \n",
      "---  ------          --------------  -----  \n",
      " 0   Indicator Code  492 non-null    object \n",
      " 1   2025            492 non-null    float64\n",
      " 2   2030            492 non-null    float64\n",
      " 3   2035            492 non-null    float64\n",
      " 4   Country         492 non-null    object \n",
      " 5   Region          492 non-null    object \n",
      " 6   Income Group    492 non-null    object \n",
      "dtypes: float64(3), object(4)\n",
      "memory usage: 30.8+ KB\n"
     ]
    }
   ],
   "source": [
    "dfutil_futur=dfcomp_futur[dfcomp_futur['Region']!='North America'].copy()\n",
    "dfutil_futur.info()"
   ]
  },
  {
   "cell_type": "markdown",
   "metadata": {},
   "source": [
    "### Etude pour le groupe des hauts revenus\n",
    "\n",
    "Nous priviliegeons les pays à haut niveau de vie pour les raisons pre-citees.\n",
    "\n",
    "Selection des pays qui sont dans ce groupe"
   ]
  },
  {
   "cell_type": "code",
   "execution_count": 29,
   "metadata": {},
   "outputs": [
    {
     "data": {
      "text/html": [
       "<div>\n",
       "<style scoped>\n",
       "    .dataframe tbody tr th:only-of-type {\n",
       "        vertical-align: middle;\n",
       "    }\n",
       "\n",
       "    .dataframe tbody tr th {\n",
       "        vertical-align: top;\n",
       "    }\n",
       "\n",
       "    .dataframe thead th {\n",
       "        text-align: right;\n",
       "    }\n",
       "</style>\n",
       "<table border=\"1\" class=\"dataframe\">\n",
       "  <thead>\n",
       "    <tr style=\"text-align: right;\">\n",
       "      <th></th>\n",
       "      <th>Indicator Code</th>\n",
       "      <th>2025</th>\n",
       "      <th>2030</th>\n",
       "      <th>2035</th>\n",
       "      <th>Country</th>\n",
       "      <th>Region</th>\n",
       "    </tr>\n",
       "  </thead>\n",
       "  <tbody>\n",
       "    <tr>\n",
       "      <th>15</th>\n",
       "      <td>POP.15-19ANS.NIV2</td>\n",
       "      <td>4.51</td>\n",
       "      <td>4.45</td>\n",
       "      <td>4.85</td>\n",
       "      <td>Aruba</td>\n",
       "      <td>Latin America &amp; Caribbean</td>\n",
       "    </tr>\n",
       "    <tr>\n",
       "      <th>16</th>\n",
       "      <td>POP.15-19ANS.NIV4</td>\n",
       "      <td>0.00</td>\n",
       "      <td>0.00</td>\n",
       "      <td>0.00</td>\n",
       "      <td>Aruba</td>\n",
       "      <td>Latin America &amp; Caribbean</td>\n",
       "    </tr>\n",
       "    <tr>\n",
       "      <th>17</th>\n",
       "      <td>POP.15-19ANS.NIV3</td>\n",
       "      <td>1.42</td>\n",
       "      <td>1.46</td>\n",
       "      <td>1.66</td>\n",
       "      <td>Aruba</td>\n",
       "      <td>Latin America &amp; Caribbean</td>\n",
       "    </tr>\n",
       "    <tr>\n",
       "      <th>18</th>\n",
       "      <td>POP.15-19ANS.NIV2</td>\n",
       "      <td>468.73</td>\n",
       "      <td>463.18</td>\n",
       "      <td>467.93</td>\n",
       "      <td>Australia</td>\n",
       "      <td>East Asia &amp; Pacific</td>\n",
       "    </tr>\n",
       "    <tr>\n",
       "      <th>19</th>\n",
       "      <td>POP.15-19ANS.NIV4</td>\n",
       "      <td>23.89</td>\n",
       "      <td>25.83</td>\n",
       "      <td>28.48</td>\n",
       "      <td>Australia</td>\n",
       "      <td>East Asia &amp; Pacific</td>\n",
       "    </tr>\n",
       "  </tbody>\n",
       "</table>\n",
       "</div>"
      ],
      "text/plain": [
       "       Indicator Code    2025    2030    2035    Country  \\\n",
       "15  POP.15-19ANS.NIV2    4.51    4.45    4.85      Aruba   \n",
       "16  POP.15-19ANS.NIV4    0.00    0.00    0.00      Aruba   \n",
       "17  POP.15-19ANS.NIV3    1.42    1.46    1.66      Aruba   \n",
       "18  POP.15-19ANS.NIV2  468.73  463.18  467.93  Australia   \n",
       "19  POP.15-19ANS.NIV4   23.89   25.83   28.48  Australia   \n",
       "\n",
       "                       Region  \n",
       "15  Latin America & Caribbean  \n",
       "16  Latin America & Caribbean  \n",
       "17  Latin America & Caribbean  \n",
       "18        East Asia & Pacific  \n",
       "19        East Asia & Pacific  "
      ]
     },
     "execution_count": 29,
     "metadata": {},
     "output_type": "execute_result"
    }
   ],
   "source": [
    "dfhi_futur=dfutil_futur[dfutil_futur['Income Group']=='High income'].copy()\n",
    "dfhi_futur.drop(['Income Group'],axis=1,inplace=True)\n",
    "dfhi_futur.head()"
   ]
  },
  {
   "cell_type": "markdown",
   "metadata": {},
   "source": [
    "Regardons le nombre de pays selectionne par region"
   ]
  },
  {
   "cell_type": "code",
   "execution_count": 30,
   "metadata": {},
   "outputs": [
    {
     "data": {
      "text/plain": [
       "Europe & Central Asia         28.0\n",
       "East Asia & Pacific            9.0\n",
       "Middle East & North Africa     7.0\n",
       "Latin America & Caribbean      6.0\n",
       "Sub-Saharan Africa             1.0\n",
       "Name: Region, dtype: float64"
      ]
     },
     "execution_count": 30,
     "metadata": {},
     "output_type": "execute_result"
    }
   ],
   "source": [
    "nb_pays_by_region=(1/3)*dfhi_futur['Region'].value_counts()\n",
    "nb_pays_by_region"
   ]
  },
  {
   "cell_type": "markdown",
   "metadata": {},
   "source": [
    "Ce resultat confirme l'interet de la region Europe et Asie Centrale "
   ]
  },
  {
   "cell_type": "code",
   "execution_count": 31,
   "metadata": {},
   "outputs": [
    {
     "name": "stdout",
     "output_type": "stream",
     "text": [
      "moyenne : \n",
      "                                  2025        2030        2035\n",
      "Region                                                        \n",
      "East Asia & Pacific         625.311111  603.406667  569.275556\n",
      "Europe & Central Asia       683.791429  666.585714  648.750000\n",
      "Latin America & Caribbean   163.628333  153.856667  145.441667\n",
      "Middle East & North Africa  431.850000  422.362857  432.457143\n",
      "Sub-Saharan Africa           50.570000   56.370000   62.050000\n",
      "\n",
      "mediane : \n",
      "                               2025     2030     2035\n",
      "Region                                               \n",
      "East Asia & Pacific         103.250  105.900  115.750\n",
      "Europe & Central Asia       289.640  269.315  273.105\n",
      "Latin America & Caribbean    86.115   76.955   68.055\n",
      "Middle East & North Africa  130.870  138.550  137.310\n",
      "Sub-Saharan Africa           50.570   56.370   62.050\n",
      "\n",
      "ecart-type : \n",
      "                                   2025         2030        2035\n",
      "Region                                                          \n",
      "East Asia & Pacific         1139.786618  1081.023396  995.562330\n",
      "Europe & Central Asia        931.883984   931.997468  882.935280\n",
      "Latin America & Caribbean    238.263846   225.774043  215.115237\n",
      "Middle East & North Africa   850.236329   817.948455  845.978481\n",
      "Sub-Saharan Africa                  NaN          NaN         NaN\n"
     ]
    }
   ],
   "source": [
    "niv2_by_region=dfhi_futur[dfhi_futur['Indicator Code']=='POP.15-19ANS.NIV2'].groupby(['Region'])\n",
    "moyenne=niv2_by_region.mean()\n",
    "mediane=niv2_by_region.median()\n",
    "ecart_type=niv2_by_region.std()\n",
    "print('moyenne : ')\n",
    "print (moyenne)\n",
    "print()\n",
    "print('mediane : ')\n",
    "print(mediane)\n",
    "print()\n",
    "print('ecart-type : ')\n",
    "print(ecart_type)"
   ]
  },
  {
   "cell_type": "markdown",
   "metadata": {},
   "source": [
    "Les ecarts importants entre la moyenne et la mediane, confirmés par les ecarts-types, montrent que dans chaque region (sauf l'Afrique sud -saharienne constituee d'un seul pays) se trouve un ou deux pays très dominant en terme de population"
   ]
  },
  {
   "cell_type": "markdown",
   "metadata": {},
   "source": [
    "Visualisons par des camemberts la repartition des population des 15-19 ans suivant les regions"
   ]
  },
  {
   "cell_type": "code",
   "execution_count": 57,
   "metadata": {},
   "outputs": [
    {
     "data": {
      "text/plain": [
       "Text(0.5, 1.0, '2035')"
      ]
     },
     "execution_count": 57,
     "metadata": {},
     "output_type": "execute_result"
    },
    {
     "data": {
      "image/png": "[encoded data removed]",
      "text/plain": [
       "<Figure size 864x864 with 3 Axes>"
      ]
     },
     "metadata": {},
     "output_type": "display_data"
    }
   ],
   "source": [
    "plt.figure(1,figsize=(12,12))\n",
    "plt.suptitle('Repartition par Region de la population des 15-19ANS')\n",
    "plt.gcf().subplots_adjust(wspace=2)\n",
    "plt.subplot(2,2,1)\n",
    "x2025=mediane['2025'].values\n",
    "plt.pie(x2025,labels=mediane.index.values,\n",
    "        autopct=lambda x: str(round(x,2))+'%',pctdistance=0.7,labeldistance=1.1,\n",
    "        colors=['red','blue','yellow','green','orange'])\n",
    "plt.title('2025')\n",
    "\n",
    "plt.subplot(2,2,2)\n",
    "x2030=mediane['2030'].values\n",
    "plt.pie(x2030,labels=mediane.index.values,\n",
    "        autopct=lambda x: str(round(x,2))+'%',pctdistance=0.7,labeldistance=1.1,\n",
    "       colors=['red','blue','yellow','green','orange'])\n",
    "plt.title('2030')\n",
    "\n",
    "plt.subplot(2,2,3)\n",
    "x2035=mediane['2035'].values\n",
    "plt.pie(x2035,labels=mediane.index.values,\n",
    "        autopct=lambda x: str(round(x,2))+'%',pctdistance=0.7,labeldistance=1.1,\n",
    "       colors=['red','blue','yellow','green','orange'])\n",
    "plt.title('2035')\n",
    "\n"
   ]
  },
  {
   "cell_type": "markdown",
   "metadata": {},
   "source": [
    "Ces graphiques nous montrent l'interet de se focaliser sur la region Europe et Asie Centrale. En supposant que Academy soit en France, cette region est egalement interessante par la proximite geographique donc permettant un deplacement dans ces pays par air, rails et routes. D'autre part une majorite de ces pays utilise l'alphabet latin ce qui simplifie les problèmes de transcription dans la langue officielle du pays.  \n",
    "Nous allons donc nous focaliser sur cette region."
   ]
  },
  {
   "cell_type": "markdown",
   "metadata": {},
   "source": [
    "### Etude de la region Europe et Asie Centrale\n",
    "\n",
    "Cette région semble la plus appropriéepour une expansion internationale de Academy :\n",
    "- l'utilisation d'internet est déjà bonne en 2015\n",
    "- les projections des nombres des 15-19 ans donnent des valeurs satisfaisantes\n",
    "- la proximite et l'alphabet utilise\n",
    "\n",
    "Nous noterons EAC cette region en abrégé.\n",
    "\n",
    "Nous allons rechercher les pays qui semblent les plus interessants "
   ]
  },
  {
   "cell_type": "code",
   "execution_count": 33,
   "metadata": {},
   "outputs": [
    {
     "data": {
      "text/html": [
       "<div>\n",
       "<style scoped>\n",
       "    .dataframe tbody tr th:only-of-type {\n",
       "        vertical-align: middle;\n",
       "    }\n",
       "\n",
       "    .dataframe tbody tr th {\n",
       "        vertical-align: top;\n",
       "    }\n",
       "\n",
       "    .dataframe thead th {\n",
       "        text-align: right;\n",
       "    }\n",
       "</style>\n",
       "<table border=\"1\" class=\"dataframe\">\n",
       "  <thead>\n",
       "    <tr style=\"text-align: right;\">\n",
       "      <th></th>\n",
       "      <th>Indicator Code</th>\n",
       "      <th>2025</th>\n",
       "      <th>2030</th>\n",
       "      <th>2035</th>\n",
       "      <th>Country</th>\n",
       "    </tr>\n",
       "  </thead>\n",
       "  <tbody>\n",
       "    <tr>\n",
       "      <th>21</th>\n",
       "      <td>POP.15-19ANS.NIV2</td>\n",
       "      <td>244.24</td>\n",
       "      <td>244.17</td>\n",
       "      <td>246.75</td>\n",
       "      <td>Austria</td>\n",
       "    </tr>\n",
       "    <tr>\n",
       "      <th>22</th>\n",
       "      <td>POP.15-19ANS.NIV4</td>\n",
       "      <td>12.57</td>\n",
       "      <td>13.26</td>\n",
       "      <td>14.06</td>\n",
       "      <td>Austria</td>\n",
       "    </tr>\n",
       "    <tr>\n",
       "      <th>23</th>\n",
       "      <td>POP.15-19ANS.NIV3</td>\n",
       "      <td>87.85</td>\n",
       "      <td>92.64</td>\n",
       "      <td>98.18</td>\n",
       "      <td>Austria</td>\n",
       "    </tr>\n",
       "    <tr>\n",
       "      <th>39</th>\n",
       "      <td>POP.15-19ANS.NIV2</td>\n",
       "      <td>357.79</td>\n",
       "      <td>349.18</td>\n",
       "      <td>346.55</td>\n",
       "      <td>Belgium</td>\n",
       "    </tr>\n",
       "    <tr>\n",
       "      <th>40</th>\n",
       "      <td>POP.15-19ANS.NIV4</td>\n",
       "      <td>8.75</td>\n",
       "      <td>8.98</td>\n",
       "      <td>9.33</td>\n",
       "      <td>Belgium</td>\n",
       "    </tr>\n",
       "  </tbody>\n",
       "</table>\n",
       "</div>"
      ],
      "text/plain": [
       "       Indicator Code    2025    2030    2035  Country\n",
       "21  POP.15-19ANS.NIV2  244.24  244.17  246.75  Austria\n",
       "22  POP.15-19ANS.NIV4   12.57   13.26   14.06  Austria\n",
       "23  POP.15-19ANS.NIV3   87.85   92.64   98.18  Austria\n",
       "39  POP.15-19ANS.NIV2  357.79  349.18  346.55  Belgium\n",
       "40  POP.15-19ANS.NIV4    8.75    8.98    9.33  Belgium"
      ]
     },
     "execution_count": 33,
     "metadata": {},
     "output_type": "execute_result"
    }
   ],
   "source": [
    "df_EAC=dfhi_futur[dfhi_futur['Region']=='Europe & Central Asia'].copy()\n",
    "df_EAC.drop(['Region'], axis=1,inplace=True)\n",
    "df_EAC.head()"
   ]
  },
  {
   "cell_type": "markdown",
   "metadata": {},
   "source": [
    "Calculons le pourcentage d'evolution du nomnbre des 15-19 ans suivant les niveaux entre 2025 et 2035"
   ]
  },
  {
   "cell_type": "code",
   "execution_count": 64,
   "metadata": {},
   "outputs": [
    {
     "data": {
      "text/html": [
       "<div>\n",
       "<style scoped>\n",
       "    .dataframe tbody tr th:only-of-type {\n",
       "        vertical-align: middle;\n",
       "    }\n",
       "\n",
       "    .dataframe tbody tr th {\n",
       "        vertical-align: top;\n",
       "    }\n",
       "\n",
       "    .dataframe thead th {\n",
       "        text-align: right;\n",
       "    }\n",
       "</style>\n",
       "<table border=\"1\" class=\"dataframe\">\n",
       "  <thead>\n",
       "    <tr style=\"text-align: right;\">\n",
       "      <th></th>\n",
       "      <th>Indicator Code</th>\n",
       "      <th>2025</th>\n",
       "      <th>2030</th>\n",
       "      <th>2035</th>\n",
       "      <th>Country</th>\n",
       "      <th>%.EVOL.15-19ANS</th>\n",
       "    </tr>\n",
       "  </thead>\n",
       "  <tbody>\n",
       "    <tr>\n",
       "      <th>21</th>\n",
       "      <td>POP.15-19ANS.NIV2</td>\n",
       "      <td>244.24</td>\n",
       "      <td>244.17</td>\n",
       "      <td>246.75</td>\n",
       "      <td>Austria</td>\n",
       "      <td>1.027678</td>\n",
       "    </tr>\n",
       "    <tr>\n",
       "      <th>22</th>\n",
       "      <td>POP.15-19ANS.NIV4</td>\n",
       "      <td>12.57</td>\n",
       "      <td>13.26</td>\n",
       "      <td>14.06</td>\n",
       "      <td>Austria</td>\n",
       "      <td>11.853620</td>\n",
       "    </tr>\n",
       "    <tr>\n",
       "      <th>23</th>\n",
       "      <td>POP.15-19ANS.NIV3</td>\n",
       "      <td>87.85</td>\n",
       "      <td>92.64</td>\n",
       "      <td>98.18</td>\n",
       "      <td>Austria</td>\n",
       "      <td>11.758680</td>\n",
       "    </tr>\n",
       "    <tr>\n",
       "      <th>39</th>\n",
       "      <td>POP.15-19ANS.NIV2</td>\n",
       "      <td>357.79</td>\n",
       "      <td>349.18</td>\n",
       "      <td>346.55</td>\n",
       "      <td>Belgium</td>\n",
       "      <td>-3.141508</td>\n",
       "    </tr>\n",
       "    <tr>\n",
       "      <th>40</th>\n",
       "      <td>POP.15-19ANS.NIV4</td>\n",
       "      <td>8.75</td>\n",
       "      <td>8.98</td>\n",
       "      <td>9.33</td>\n",
       "      <td>Belgium</td>\n",
       "      <td>6.628571</td>\n",
       "    </tr>\n",
       "  </tbody>\n",
       "</table>\n",
       "</div>"
      ],
      "text/plain": [
       "       Indicator Code    2025    2030    2035  Country  %.EVOL.15-19ANS\n",
       "21  POP.15-19ANS.NIV2  244.24  244.17  246.75  Austria         1.027678\n",
       "22  POP.15-19ANS.NIV4   12.57   13.26   14.06  Austria        11.853620\n",
       "23  POP.15-19ANS.NIV3   87.85   92.64   98.18  Austria        11.758680\n",
       "39  POP.15-19ANS.NIV2  357.79  349.18  346.55  Belgium        -3.141508\n",
       "40  POP.15-19ANS.NIV4    8.75    8.98    9.33  Belgium         6.628571"
      ]
     },
     "execution_count": 64,
     "metadata": {},
     "output_type": "execute_result"
    }
   ],
   "source": [
    "df_EAC['%.EVOL.15-19ANS']=(df_EAC['2035']/df_EAC['2025']-1)*100\n",
    "df_EAC.head()"
   ]
  },
  {
   "cell_type": "markdown",
   "metadata": {},
   "source": [
    "Separons suivant les niveaux d'études et classons les pays par la valeur moyenne sur les trois années\n",
    "\n",
    "Niveau 2"
   ]
  },
  {
   "cell_type": "code",
   "execution_count": 72,
   "metadata": {},
   "outputs": [
    {
     "data": {
      "text/html": [
       "<div>\n",
       "<style scoped>\n",
       "    .dataframe tbody tr th:only-of-type {\n",
       "        vertical-align: middle;\n",
       "    }\n",
       "\n",
       "    .dataframe tbody tr th {\n",
       "        vertical-align: top;\n",
       "    }\n",
       "\n",
       "    .dataframe thead th {\n",
       "        text-align: right;\n",
       "    }\n",
       "</style>\n",
       "<table border=\"1\" class=\"dataframe\">\n",
       "  <thead>\n",
       "    <tr style=\"text-align: right;\">\n",
       "      <th></th>\n",
       "      <th>2025</th>\n",
       "      <th>2030</th>\n",
       "      <th>2035</th>\n",
       "      <th>%.EVOL.15-19ANS</th>\n",
       "      <th>Moyenne.NIV2</th>\n",
       "    </tr>\n",
       "  </thead>\n",
       "  <tbody>\n",
       "    <tr>\n",
       "      <th>count</th>\n",
       "      <td>28.000000</td>\n",
       "      <td>28.000000</td>\n",
       "      <td>28.00000</td>\n",
       "      <td>28.000000</td>\n",
       "      <td>28.000000</td>\n",
       "    </tr>\n",
       "    <tr>\n",
       "      <th>mean</th>\n",
       "      <td>683.791429</td>\n",
       "      <td>666.585714</td>\n",
       "      <td>648.75000</td>\n",
       "      <td>-2.186855</td>\n",
       "      <td>666.375714</td>\n",
       "    </tr>\n",
       "    <tr>\n",
       "      <th>std</th>\n",
       "      <td>931.883984</td>\n",
       "      <td>931.997468</td>\n",
       "      <td>882.93528</td>\n",
       "      <td>9.770130</td>\n",
       "      <td>914.077828</td>\n",
       "    </tr>\n",
       "    <tr>\n",
       "      <th>min</th>\n",
       "      <td>0.150000</td>\n",
       "      <td>0.160000</td>\n",
       "      <td>0.17000</td>\n",
       "      <td>-20.589577</td>\n",
       "      <td>0.160000</td>\n",
       "    </tr>\n",
       "    <tr>\n",
       "      <th>25%</th>\n",
       "      <td>105.462500</td>\n",
       "      <td>102.447500</td>\n",
       "      <td>97.26000</td>\n",
       "      <td>-9.045461</td>\n",
       "      <td>101.723333</td>\n",
       "    </tr>\n",
       "    <tr>\n",
       "      <th>50%</th>\n",
       "      <td>289.640000</td>\n",
       "      <td>269.315000</td>\n",
       "      <td>273.10500</td>\n",
       "      <td>-2.667477</td>\n",
       "      <td>277.558333</td>\n",
       "    </tr>\n",
       "    <tr>\n",
       "      <th>75%</th>\n",
       "      <td>682.097500</td>\n",
       "      <td>641.490000</td>\n",
       "      <td>629.51500</td>\n",
       "      <td>5.415241</td>\n",
       "      <td>651.034167</td>\n",
       "    </tr>\n",
       "    <tr>\n",
       "      <th>max</th>\n",
       "      <td>3477.660000</td>\n",
       "      <td>3604.650000</td>\n",
       "      <td>3154.60000</td>\n",
       "      <td>13.611457</td>\n",
       "      <td>3412.303333</td>\n",
       "    </tr>\n",
       "  </tbody>\n",
       "</table>\n",
       "</div>"
      ],
      "text/plain": [
       "              2025         2030        2035  %.EVOL.15-19ANS  Moyenne.NIV2\n",
       "count    28.000000    28.000000    28.00000        28.000000     28.000000\n",
       "mean    683.791429   666.585714   648.75000        -2.186855    666.375714\n",
       "std     931.883984   931.997468   882.93528         9.770130    914.077828\n",
       "min       0.150000     0.160000     0.17000       -20.589577      0.160000\n",
       "25%     105.462500   102.447500    97.26000        -9.045461    101.723333\n",
       "50%     289.640000   269.315000   273.10500        -2.667477    277.558333\n",
       "75%     682.097500   641.490000   629.51500         5.415241    651.034167\n",
       "max    3477.660000  3604.650000  3154.60000        13.611457   3412.303333"
      ]
     },
     "execution_count": 72,
     "metadata": {},
     "output_type": "execute_result"
    }
   ],
   "source": [
    "niv2_EAC=df_EAC[df_EAC['Indicator Code']=='POP.15-19ANS.NIV2'][['2025','2030','2035','Country','%.EVOL.15-19ANS']].copy()\n",
    "niv2_EAC['Moyenne.NIV2']=niv2_EAC[['2025','2030','2035']].mean(axis=1)\n",
    "niv2_EAC_tri=niv2_EAC.sort_values(by='Moyenne.NIV2',ascending=False)\n",
    "niv2_EAC_tri.describe()"
   ]
  },
  {
   "cell_type": "markdown",
   "metadata": {},
   "source": [
    "Visualisation des 10 premières lignes"
   ]
  },
  {
   "cell_type": "code",
   "execution_count": 79,
   "metadata": {},
   "outputs": [
    {
     "data": {
      "image/png": "[encoded data removed]",
      "text/plain": [
       "<Figure size 360x360 with 1 Axes>"
      ]
     },
     "metadata": {},
     "output_type": "display_data"
    }
   ],
   "source": [
    "sns.set(font_scale=1)\n",
    "ax=sns.catplot(x='Moyenne.NIV2',y='Country',data=niv2_EAC_tri.head(10),kind='bar',palette='GnBu_r')\n"
   ]
  },
  {
   "cell_type": "markdown",
   "metadata": {},
   "source": [
    "Le classement des pays sur le nombre prevu des 15-19 ans ayant un niveau2, donne la Russie puis la Grande Bretagne, l'Allemagne, italie, Espagne et Pologne. L'inconvenient de la Russie est que ce pays utilise l'alphabet cyrillique. "
   ]
  },
  {
   "cell_type": "markdown",
   "metadata": {},
   "source": [
    "Niveau 3"
   ]
  },
  {
   "cell_type": "code",
   "execution_count": 36,
   "metadata": {},
   "outputs": [
    {
     "data": {
      "text/html": [
       "<div>\n",
       "<style scoped>\n",
       "    .dataframe tbody tr th:only-of-type {\n",
       "        vertical-align: middle;\n",
       "    }\n",
       "\n",
       "    .dataframe tbody tr th {\n",
       "        vertical-align: top;\n",
       "    }\n",
       "\n",
       "    .dataframe thead th {\n",
       "        text-align: right;\n",
       "    }\n",
       "</style>\n",
       "<table border=\"1\" class=\"dataframe\">\n",
       "  <thead>\n",
       "    <tr style=\"text-align: right;\">\n",
       "      <th></th>\n",
       "      <th>2025</th>\n",
       "      <th>2030</th>\n",
       "      <th>2035</th>\n",
       "      <th>Moyenne.NIV3</th>\n",
       "    </tr>\n",
       "  </thead>\n",
       "  <tbody>\n",
       "    <tr>\n",
       "      <th>count</th>\n",
       "      <td>28.000000</td>\n",
       "      <td>28.000000</td>\n",
       "      <td>28.000000</td>\n",
       "      <td>28.000000</td>\n",
       "    </tr>\n",
       "    <tr>\n",
       "      <th>mean</th>\n",
       "      <td>426.689286</td>\n",
       "      <td>445.178929</td>\n",
       "      <td>441.371071</td>\n",
       "      <td>437.746429</td>\n",
       "    </tr>\n",
       "    <tr>\n",
       "      <th>std</th>\n",
       "      <td>908.580023</td>\n",
       "      <td>978.285908</td>\n",
       "      <td>921.203386</td>\n",
       "      <td>935.650514</td>\n",
       "    </tr>\n",
       "    <tr>\n",
       "      <th>min</th>\n",
       "      <td>4.320000</td>\n",
       "      <td>4.420000</td>\n",
       "      <td>5.090000</td>\n",
       "      <td>4.610000</td>\n",
       "    </tr>\n",
       "    <tr>\n",
       "      <th>25%</th>\n",
       "      <td>38.667500</td>\n",
       "      <td>40.727500</td>\n",
       "      <td>42.832500</td>\n",
       "      <td>40.742500</td>\n",
       "    </tr>\n",
       "    <tr>\n",
       "      <th>50%</th>\n",
       "      <td>103.150000</td>\n",
       "      <td>104.925000</td>\n",
       "      <td>110.380000</td>\n",
       "      <td>106.511667</td>\n",
       "    </tr>\n",
       "    <tr>\n",
       "      <th>75%</th>\n",
       "      <td>301.700000</td>\n",
       "      <td>290.515000</td>\n",
       "      <td>295.262500</td>\n",
       "      <td>294.583333</td>\n",
       "    </tr>\n",
       "    <tr>\n",
       "      <th>max</th>\n",
       "      <td>4457.480000</td>\n",
       "      <td>4837.660000</td>\n",
       "      <td>4443.490000</td>\n",
       "      <td>4579.543333</td>\n",
       "    </tr>\n",
       "  </tbody>\n",
       "</table>\n",
       "</div>"
      ],
      "text/plain": [
       "              2025         2030         2035  Moyenne.NIV3\n",
       "count    28.000000    28.000000    28.000000     28.000000\n",
       "mean    426.689286   445.178929   441.371071    437.746429\n",
       "std     908.580023   978.285908   921.203386    935.650514\n",
       "min       4.320000     4.420000     5.090000      4.610000\n",
       "25%      38.667500    40.727500    42.832500     40.742500\n",
       "50%     103.150000   104.925000   110.380000    106.511667\n",
       "75%     301.700000   290.515000   295.262500    294.583333\n",
       "max    4457.480000  4837.660000  4443.490000   4579.543333"
      ]
     },
     "execution_count": 36,
     "metadata": {},
     "output_type": "execute_result"
    }
   ],
   "source": [
    "niv3_EAC=df_EAC[df_EAC['Indicator Code']=='POP.15-19ANS.NIV3'][['2025','2030','2035','Country']].copy()\n",
    "niv3_EAC['Moyenne.NIV3']=niv3_EAC.mean(axis=1)\n",
    "niv3_EAC_tri=niv3_EAC.sort_values(by='Moyenne.NIV3',ascending=False)\n",
    "niv3_EAC_tri.describe()"
   ]
  },
  {
   "cell_type": "markdown",
   "metadata": {},
   "source": [
    "Visualisation des 10 premières lignes\n",
    "\n"
   ]
  },
  {
   "cell_type": "code",
   "execution_count": 37,
   "metadata": {},
   "outputs": [
    {
     "data": {
      "image/png": "[encoded data removed]",
      "text/plain": [
       "<Figure size 360x360 with 1 Axes>"
      ]
     },
     "metadata": {},
     "output_type": "display_data"
    }
   ],
   "source": [
    "sns.set(font_scale=1)\n",
    "ax=sns.catplot(x='Moyenne.NIV3',y='Country',data=niv3_EAC_tri.head(10),kind='bar',palette='OrRd_r')"
   ]
  },
  {
   "cell_type": "markdown",
   "metadata": {},
   "source": [
    "Pour la projection concernant les 15-19 ans ayant le niveau 3, la Russie reste en tête et l'allemagne recule derriere la Pologne."
   ]
  },
  {
   "cell_type": "markdown",
   "metadata": {},
   "source": [
    "Niveau 4"
   ]
  },
  {
   "cell_type": "code",
   "execution_count": 38,
   "metadata": {},
   "outputs": [
    {
     "data": {
      "text/html": [
       "<div>\n",
       "<style scoped>\n",
       "    .dataframe tbody tr th:only-of-type {\n",
       "        vertical-align: middle;\n",
       "    }\n",
       "\n",
       "    .dataframe tbody tr th {\n",
       "        vertical-align: top;\n",
       "    }\n",
       "\n",
       "    .dataframe thead th {\n",
       "        text-align: right;\n",
       "    }\n",
       "</style>\n",
       "<table border=\"1\" class=\"dataframe\">\n",
       "  <thead>\n",
       "    <tr style=\"text-align: right;\">\n",
       "      <th></th>\n",
       "      <th>2025</th>\n",
       "      <th>2030</th>\n",
       "      <th>2035</th>\n",
       "      <th>Moyenne.NIV4</th>\n",
       "    </tr>\n",
       "  </thead>\n",
       "  <tbody>\n",
       "    <tr>\n",
       "      <th>count</th>\n",
       "      <td>28.000000</td>\n",
       "      <td>28.000000</td>\n",
       "      <td>28.000000</td>\n",
       "      <td>28.000000</td>\n",
       "    </tr>\n",
       "    <tr>\n",
       "      <th>mean</th>\n",
       "      <td>7.198571</td>\n",
       "      <td>7.613571</td>\n",
       "      <td>7.969286</td>\n",
       "      <td>7.593810</td>\n",
       "    </tr>\n",
       "    <tr>\n",
       "      <th>std</th>\n",
       "      <td>19.524116</td>\n",
       "      <td>21.051603</td>\n",
       "      <td>22.151428</td>\n",
       "      <td>20.904542</td>\n",
       "    </tr>\n",
       "    <tr>\n",
       "      <th>min</th>\n",
       "      <td>0.000000</td>\n",
       "      <td>0.000000</td>\n",
       "      <td>0.000000</td>\n",
       "      <td>0.000000</td>\n",
       "    </tr>\n",
       "    <tr>\n",
       "      <th>25%</th>\n",
       "      <td>0.000000</td>\n",
       "      <td>0.000000</td>\n",
       "      <td>0.000000</td>\n",
       "      <td>0.000000</td>\n",
       "    </tr>\n",
       "    <tr>\n",
       "      <th>50%</th>\n",
       "      <td>0.000000</td>\n",
       "      <td>0.000000</td>\n",
       "      <td>0.000000</td>\n",
       "      <td>0.000000</td>\n",
       "    </tr>\n",
       "    <tr>\n",
       "      <th>75%</th>\n",
       "      <td>1.790000</td>\n",
       "      <td>1.862500</td>\n",
       "      <td>1.925000</td>\n",
       "      <td>1.859167</td>\n",
       "    </tr>\n",
       "    <tr>\n",
       "      <th>max</th>\n",
       "      <td>81.210000</td>\n",
       "      <td>89.770000</td>\n",
       "      <td>95.240000</td>\n",
       "      <td>88.740000</td>\n",
       "    </tr>\n",
       "  </tbody>\n",
       "</table>\n",
       "</div>"
      ],
      "text/plain": [
       "            2025       2030       2035  Moyenne.NIV4\n",
       "count  28.000000  28.000000  28.000000     28.000000\n",
       "mean    7.198571   7.613571   7.969286      7.593810\n",
       "std    19.524116  21.051603  22.151428     20.904542\n",
       "min     0.000000   0.000000   0.000000      0.000000\n",
       "25%     0.000000   0.000000   0.000000      0.000000\n",
       "50%     0.000000   0.000000   0.000000      0.000000\n",
       "75%     1.790000   1.862500   1.925000      1.859167\n",
       "max    81.210000  89.770000  95.240000     88.740000"
      ]
     },
     "execution_count": 38,
     "metadata": {},
     "output_type": "execute_result"
    }
   ],
   "source": [
    "niv4_EAC=df_EAC[df_EAC['Indicator Code']=='POP.15-19ANS.NIV4'][['2025','2030','2035','Country']].copy()\n",
    "niv4_EAC['Moyenne.NIV4']=niv4_EAC.mean(axis=1)\n",
    "niv4_EAC_tri=niv4_EAC.sort_values(by='Moyenne.NIV4',ascending=False)\n",
    "niv4_EAC_tri.describe()"
   ]
  },
  {
   "cell_type": "markdown",
   "metadata": {},
   "source": [
    "Visualisation graphique des 10 premières lignes"
   ]
  },
  {
   "cell_type": "code",
   "execution_count": 39,
   "metadata": {},
   "outputs": [
    {
     "data": {
      "image/png": "[encoded data removed]",
      "text/plain": [
       "<Figure size 360x360 with 1 Axes>"
      ]
     },
     "metadata": {},
     "output_type": "display_data"
    }
   ],
   "source": [
    "ax=sns.catplot(x='Moyenne.NIV4',y='Country',data=niv4_EAC_tri.head(10),kind='bar',palette='Greens_r')"
   ]
  },
  {
   "cell_type": "markdown",
   "metadata": {},
   "source": [
    "Nous pouvons remarquer la variation de la moyenne d'age des etudiants ayant le niveau 4 suivant les pays, mais cet indicateur semble moins pertinent que les deux precedants"
   ]
  },
  {
   "cell_type": "markdown",
   "metadata": {},
   "source": [
    "Afin de pouvoir classer les pays, nous allons attribuer un score suivant le classement"
   ]
  },
  {
   "cell_type": "code",
   "execution_count": 80,
   "metadata": {},
   "outputs": [
    {
     "data": {
      "text/html": [
       "<div>\n",
       "<style scoped>\n",
       "    .dataframe tbody tr th:only-of-type {\n",
       "        vertical-align: middle;\n",
       "    }\n",
       "\n",
       "    .dataframe tbody tr th {\n",
       "        vertical-align: top;\n",
       "    }\n",
       "\n",
       "    .dataframe thead th {\n",
       "        text-align: right;\n",
       "    }\n",
       "</style>\n",
       "<table border=\"1\" class=\"dataframe\">\n",
       "  <thead>\n",
       "    <tr style=\"text-align: right;\">\n",
       "      <th></th>\n",
       "      <th>2025</th>\n",
       "      <th>2030</th>\n",
       "      <th>2035</th>\n",
       "      <th>Country</th>\n",
       "      <th>%.EVOL.15-19ANS</th>\n",
       "      <th>Moyenne.NIV2</th>\n",
       "      <th>NIV2.SCORE</th>\n",
       "    </tr>\n",
       "  </thead>\n",
       "  <tbody>\n",
       "    <tr>\n",
       "      <th>372</th>\n",
       "      <td>3477.66</td>\n",
       "      <td>3604.65</td>\n",
       "      <td>3154.60</td>\n",
       "      <td>Russia</td>\n",
       "      <td>-9.289580</td>\n",
       "      <td>3412.303333</td>\n",
       "      <td>28</td>\n",
       "    </tr>\n",
       "    <tr>\n",
       "      <th>474</th>\n",
       "      <td>2643.62</td>\n",
       "      <td>2791.76</td>\n",
       "      <td>2835.94</td>\n",
       "      <td>United Kingdom</td>\n",
       "      <td>7.274873</td>\n",
       "      <td>2757.106667</td>\n",
       "      <td>27</td>\n",
       "    </tr>\n",
       "    <tr>\n",
       "      <th>165</th>\n",
       "      <td>2166.35</td>\n",
       "      <td>2151.68</td>\n",
       "      <td>2256.17</td>\n",
       "      <td>Germany</td>\n",
       "      <td>4.146144</td>\n",
       "      <td>2191.400000</td>\n",
       "      <td>26</td>\n",
       "    </tr>\n",
       "    <tr>\n",
       "      <th>219</th>\n",
       "      <td>2319.28</td>\n",
       "      <td>2041.11</td>\n",
       "      <td>1933.30</td>\n",
       "      <td>Italy</td>\n",
       "      <td>-16.642234</td>\n",
       "      <td>2097.896667</td>\n",
       "      <td>25</td>\n",
       "    </tr>\n",
       "    <tr>\n",
       "      <th>411</th>\n",
       "      <td>1666.28</td>\n",
       "      <td>1423.86</td>\n",
       "      <td>1323.20</td>\n",
       "      <td>Spain</td>\n",
       "      <td>-20.589577</td>\n",
       "      <td>1471.113333</td>\n",
       "      <td>24</td>\n",
       "    </tr>\n",
       "  </tbody>\n",
       "</table>\n",
       "</div>"
      ],
      "text/plain": [
       "        2025     2030     2035         Country  %.EVOL.15-19ANS  Moyenne.NIV2  \\\n",
       "372  3477.66  3604.65  3154.60          Russia        -9.289580   3412.303333   \n",
       "474  2643.62  2791.76  2835.94  United Kingdom         7.274873   2757.106667   \n",
       "165  2166.35  2151.68  2256.17         Germany         4.146144   2191.400000   \n",
       "219  2319.28  2041.11  1933.30           Italy       -16.642234   2097.896667   \n",
       "411  1666.28  1423.86  1323.20           Spain       -20.589577   1471.113333   \n",
       "\n",
       "     NIV2.SCORE  \n",
       "372          28  \n",
       "474          27  \n",
       "165          26  \n",
       "219          25  \n",
       "411          24  "
      ]
     },
     "execution_count": 80,
     "metadata": {},
     "output_type": "execute_result"
    }
   ],
   "source": [
    "niveau_score=[28-i for i in range(28)]\n",
    "\n",
    "niv2_EAC_tri['NIV2.SCORE']=niveau_score\n",
    "niv3_EAC_tri['NIV3.SCORE']=niveau_score\n",
    "niv4_EAC_tri['NIV4.SCORE']=niveau_score\n",
    "niv2_EAC_tri.head()\n"
   ]
  },
  {
   "cell_type": "markdown",
   "metadata": {},
   "source": [
    "Rassemblons les donnees dans un dataframe df_class"
   ]
  },
  {
   "cell_type": "code",
   "execution_count": 83,
   "metadata": {},
   "outputs": [
    {
     "data": {
      "text/html": [
       "<div>\n",
       "<style scoped>\n",
       "    .dataframe tbody tr th:only-of-type {\n",
       "        vertical-align: middle;\n",
       "    }\n",
       "\n",
       "    .dataframe tbody tr th {\n",
       "        vertical-align: top;\n",
       "    }\n",
       "\n",
       "    .dataframe thead th {\n",
       "        text-align: right;\n",
       "    }\n",
       "</style>\n",
       "<table border=\"1\" class=\"dataframe\">\n",
       "  <thead>\n",
       "    <tr style=\"text-align: right;\">\n",
       "      <th></th>\n",
       "      <th>Country</th>\n",
       "      <th>NIV2.SCORE</th>\n",
       "      <th>Moyenne.NIV2</th>\n",
       "      <th>%.EVOL.15-19ANS</th>\n",
       "      <th>NIV3.SCORE</th>\n",
       "      <th>Moyenne.NIV3</th>\n",
       "      <th>NIV4.SCORE</th>\n",
       "      <th>Moyenne.NIV4</th>\n",
       "    </tr>\n",
       "  </thead>\n",
       "  <tbody>\n",
       "    <tr>\n",
       "      <th>0</th>\n",
       "      <td>Russia</td>\n",
       "      <td>28</td>\n",
       "      <td>3412.303333</td>\n",
       "      <td>-9.289580</td>\n",
       "      <td>28</td>\n",
       "      <td>4579.543333</td>\n",
       "      <td>11</td>\n",
       "      <td>0.00</td>\n",
       "    </tr>\n",
       "    <tr>\n",
       "      <th>1</th>\n",
       "      <td>United Kingdom</td>\n",
       "      <td>27</td>\n",
       "      <td>2757.106667</td>\n",
       "      <td>7.274873</td>\n",
       "      <td>26</td>\n",
       "      <td>914.440000</td>\n",
       "      <td>28</td>\n",
       "      <td>88.74</td>\n",
       "    </tr>\n",
       "    <tr>\n",
       "      <th>2</th>\n",
       "      <td>Germany</td>\n",
       "      <td>26</td>\n",
       "      <td>2191.400000</td>\n",
       "      <td>4.146144</td>\n",
       "      <td>22</td>\n",
       "      <td>313.953333</td>\n",
       "      <td>8</td>\n",
       "      <td>0.00</td>\n",
       "    </tr>\n",
       "    <tr>\n",
       "      <th>3</th>\n",
       "      <td>Italy</td>\n",
       "      <td>25</td>\n",
       "      <td>2097.896667</td>\n",
       "      <td>-16.642234</td>\n",
       "      <td>24</td>\n",
       "      <td>673.833333</td>\n",
       "      <td>4</td>\n",
       "      <td>0.00</td>\n",
       "    </tr>\n",
       "    <tr>\n",
       "      <th>4</th>\n",
       "      <td>Spain</td>\n",
       "      <td>24</td>\n",
       "      <td>1471.113333</td>\n",
       "      <td>-20.589577</td>\n",
       "      <td>25</td>\n",
       "      <td>796.673333</td>\n",
       "      <td>14</td>\n",
       "      <td>0.00</td>\n",
       "    </tr>\n",
       "  </tbody>\n",
       "</table>\n",
       "</div>"
      ],
      "text/plain": [
       "          Country  NIV2.SCORE  Moyenne.NIV2  %.EVOL.15-19ANS  NIV3.SCORE  \\\n",
       "0          Russia          28   3412.303333        -9.289580          28   \n",
       "1  United Kingdom          27   2757.106667         7.274873          26   \n",
       "2         Germany          26   2191.400000         4.146144          22   \n",
       "3           Italy          25   2097.896667       -16.642234          24   \n",
       "4           Spain          24   1471.113333       -20.589577          25   \n",
       "\n",
       "   Moyenne.NIV3  NIV4.SCORE  Moyenne.NIV4  \n",
       "0   4579.543333          11          0.00  \n",
       "1    914.440000          28         88.74  \n",
       "2    313.953333           8          0.00  \n",
       "3    673.833333           4          0.00  \n",
       "4    796.673333          14          0.00  "
      ]
     },
     "execution_count": 83,
     "metadata": {},
     "output_type": "execute_result"
    }
   ],
   "source": [
    "df_class=niv2_EAC_tri[['Country','NIV2.SCORE','Moyenne.NIV2','%.EVOL.15-19ANS']].merge(\n",
    "    niv3_EAC_tri[['Country','NIV3.SCORE','Moyenne.NIV3']],how='outer').merge(\n",
    "    niv4_EAC_tri[['Country','NIV4.SCORE','Moyenne.NIV4']],how='outer')\n",
    "\n",
    "df_class.head()"
   ]
  },
  {
   "cell_type": "markdown",
   "metadata": {},
   "source": [
    "Regardons si cela a un sens d'introduire un score sur le pourcentage d'utilisation d'internet en 2015.  \n",
    "Existe-t-il une différence pour cet indicateur entre les pays a haut revenus de la région Europe et Asie Centrale ?"
   ]
  },
  {
   "cell_type": "code",
   "execution_count": 45,
   "metadata": {},
   "outputs": [
    {
     "data": {
      "text/html": [
       "<div>\n",
       "<style scoped>\n",
       "    .dataframe tbody tr th:only-of-type {\n",
       "        vertical-align: middle;\n",
       "    }\n",
       "\n",
       "    .dataframe tbody tr th {\n",
       "        vertical-align: top;\n",
       "    }\n",
       "\n",
       "    .dataframe thead th {\n",
       "        text-align: right;\n",
       "    }\n",
       "</style>\n",
       "<table border=\"1\" class=\"dataframe\">\n",
       "  <thead>\n",
       "    <tr style=\"text-align: right;\">\n",
       "      <th></th>\n",
       "      <th>2015</th>\n",
       "    </tr>\n",
       "  </thead>\n",
       "  <tbody>\n",
       "    <tr>\n",
       "      <th>count</th>\n",
       "      <td>27.000000</td>\n",
       "    </tr>\n",
       "    <tr>\n",
       "      <th>mean</th>\n",
       "      <td>81.685865</td>\n",
       "    </tr>\n",
       "    <tr>\n",
       "      <th>std</th>\n",
       "      <td>10.799930</td>\n",
       "    </tr>\n",
       "    <tr>\n",
       "      <th>min</th>\n",
       "      <td>58.141735</td>\n",
       "    </tr>\n",
       "    <tr>\n",
       "      <th>25%</th>\n",
       "      <td>72.407300</td>\n",
       "    </tr>\n",
       "    <tr>\n",
       "      <th>50%</th>\n",
       "      <td>83.940142</td>\n",
       "    </tr>\n",
       "    <tr>\n",
       "      <th>75%</th>\n",
       "      <td>89.511006</td>\n",
       "    </tr>\n",
       "    <tr>\n",
       "      <th>max</th>\n",
       "      <td>98.200000</td>\n",
       "    </tr>\n",
       "  </tbody>\n",
       "</table>\n",
       "</div>"
      ],
      "text/plain": [
       "            2015\n",
       "count  27.000000\n",
       "mean   81.685865\n",
       "std    10.799930\n",
       "min    58.141735\n",
       "25%    72.407300\n",
       "50%    83.940142\n",
       "75%    89.511006\n",
       "max    98.200000"
      ]
     },
     "execution_count": 45,
     "metadata": {},
     "output_type": "execute_result"
    }
   ],
   "source": [
    "pays_EAC=df_class['Country'].values\n",
    "df_EAC_past_net=df_past[((df_past['Country Name'].isin(pays_EAC))&\n",
    "                         (df_past['Indicator Code']=='%.INTERNET.USER'))][['Country Name','2015']].copy()\n",
    "df_EAC_past_net.describe()"
   ]
  },
  {
   "cell_type": "markdown",
   "metadata": {},
   "source": [
    "Compte-tenu du fait que les informations datent de 2015, on va seulement garder la liste des pays ayant un pourcentage d'utilisation de Internet dans le premier quartile"
   ]
  },
  {
   "cell_type": "code",
   "execution_count": 46,
   "metadata": {},
   "outputs": [
    {
     "data": {
      "text/plain": [
       "268920      Croatia\n",
       "279915       Cyprus\n",
       "367875       Greece\n",
       "441175        Italy\n",
       "510810    Lithuania\n",
       "661075       Poland\n",
       "664740     Portugal\n",
       "Name: Country Name, dtype: object"
      ]
     },
     "execution_count": 46,
     "metadata": {},
     "output_type": "execute_result"
    }
   ],
   "source": [
    "selection=df_EAC_past_net[df_EAC_past_net['2015']<df_EAC_past_net['2015'].quantile(0.25)]['Country Name']\n",
    "\n",
    "selection"
   ]
  },
  {
   "cell_type": "markdown",
   "metadata": {},
   "source": [
    "Pour calculer le score final nous allons utiliser des coefficients entre les trois niveaux"
   ]
  },
  {
   "cell_type": "markdown",
   "metadata": {},
   "source": [
    "\n",
    "\n",
    "\n"
   ]
  },
  {
   "cell_type": "markdown",
   "metadata": {},
   "source": [
    "L'utilisateur choisit x le coefficient pour le niveau 2 et y le coefficient pour le niveau 3, le coefficient pour le niveau 4 sera alors 1-x-y.\n",
    "Le classement est alors effectue et les pays sont classes du meilleur score au moins bon.\n",
    "\n",
    "Dans l'exemple traite x = 0.7, y = 0.25 et z = 0.05"
   ]
  },
  {
   "cell_type": "code",
   "execution_count": 94,
   "metadata": {},
   "outputs": [],
   "source": [
    "from ipywidgets import interact, interactive, fixed, interact_manual\n",
    "import ipywidgets as widgets"
   ]
  },
  {
   "cell_type": "code",
   "execution_count": 116,
   "metadata": {},
   "outputs": [
    {
     "data": {
      "application/vnd.jupyter.widget-view+json": {
       "model_id": "f852ba6aad85424ca701cf781b178a9a",
       "version_major": 2,
       "version_minor": 0
      },
      "text/plain": [
       "interactive(children=(FloatSlider(value=0.0, description='x', max=1.0, step=0.05), FloatSlider(value=0.0, desc…"
      ]
     },
     "metadata": {},
     "output_type": "display_data"
    }
   ],
   "source": [
    "x_widget = widgets.FloatSlider(min=0.0, max=1.0, step=0.05)\n",
    "y_widget = widgets.FloatSlider(min=0.0, max=1., step=0.05)\n",
    "                      \n",
    "def update_x_range(*args):\n",
    "    x_widget.max = 1- y_widget.value\n",
    "y_widget.observe(update_y_range, 'value')\n",
    "#y_widget.max=1-x_widget.value\n",
    "def f(x,y):\n",
    "    \n",
    "    df_class['Resultat']=x*df_class['NIV2.SCORE']+y*df_class['NIV3.SCORE']+(1-x-y)*df_class['NIV4.SCORE']\n",
    "    df_class.sort_values(by='Resultat',ascending=False, inplace=True)\n",
    "    return df_class[['Country','Moyenne.NIV2','%.EVOL.15-19ANS','Moyenne.NIV3','Moyenne.NIV4']].head(10)\n",
    "\n",
    "interact(f,x=x_widget, y=y_widget);\n",
    "\n"
   ]
  },
  {
   "cell_type": "markdown",
   "metadata": {},
   "source": [
    "## Conclusion\n",
    "\n",
    "D'apres l'etude menee a partir de la base de donnees utilisee, il ressort un classement des pays pour répondre à la demande. \n",
    "Ce classement ne tient pas compte ni de l'alphabet utilise dans la langue, ni de la monnaie du pays. Nous ne disposons pas des donnees concernant l'utilisation du e-learning dans l'enseignement.  \n",
    "Cette etude est un eclairage avec un parti pris de travailler avec des pays \"riches\" et dans une proximite geographique.\n",
    "\n",
    "Quelques remarques :\n",
    "- l'Espagne a l'interet d'avoir une langue parlee dans de nombreux pays d'Amerique latine et du sud, ce qui peut etre interessant dans une volonte d'expansion plus tardive mais une decroissance de la population des 15-19 ANS de niveau 2\n",
    "- les polonais forment la premiere population etrangere en Grande Bretagne, la pologne peut donc eventuellement devenir plus interessante que l'Allemagne ou l'Italie, même si elle avait un taux d'utilisation d'internet assez faible en 2015.\n",
    "\n"
   ]
  },
  {
   "cell_type": "code",
   "execution_count": null,
   "metadata": {},
   "outputs": [],
   "source": []
  }
 ],
 "metadata": {
  "kernelspec": {
   "display_name": "Python 3",
   "language": "python",
   "name": "python3"
  },
  "language_info": {
   "codemirror_mode": {
    "name": "ipython",
    "version": 3
   },
   "file_extension": ".py",
   "mimetype": "text/x-python",
   "name": "python",
   "nbconvert_exporter": "python",
   "pygments_lexer": "ipython3",
   "version": "3.8.5"
  }
 },
 "nbformat": 4,
 "nbformat_minor": 4
}
